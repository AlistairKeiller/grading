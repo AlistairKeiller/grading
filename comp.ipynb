{
 "cells": [
  {
   "cell_type": "code",
   "execution_count": 45,
   "id": "7973ded3-2460-4080-b1cb-5dc2cd182744",
   "metadata": {},
   "outputs": [
    {
     "name": "stdout",
     "output_type": "stream",
     "text": [
      "Get:1 https://nvidia.github.io/libnvidia-container/stable/ubuntu18.04/amd64  InRelease [1484 B]\n",
      "Hit:2 https://download.docker.com/linux/ubuntu jammy InRelease                 \u001b[0m\u001b[33m\n",
      "Hit:3 https://nvidia.github.io/nvidia-container-runtime/stable/ubuntu18.04/amd64  InRelease\n",
      "Hit:4 https://packages.microsoft.com/repos/azure-cli jammy InRelease           \u001b[0m\n",
      "Hit:5 http://archive.lambdalabs.com/ubuntu jammy InRelease                     \u001b[0m\u001b[33m\n",
      "Hit:6 http://archive.ubuntu.com/ubuntu jammy InRelease                         \u001b[0m\u001b[33m\n",
      "Hit:7 https://packages.cloud.google.com/apt cloud-sdk InRelease                \u001b[0m\u001b[33m\u001b[33m\n",
      "Hit:8 http://archive.ubuntu.com/ubuntu jammy-updates InRelease                 \u001b[0m\n",
      "Hit:9 https://pkg.cloudflare.com/cloudflared jammy InRelease                   \u001b[0m\u001b[33m\n",
      "Hit:10 http://security.ubuntu.com/ubuntu jammy-security InRelease              \u001b[0m\n",
      "Hit:11 http://archive.ubuntu.com/ubuntu jammy-backports InRelease              \u001b[0m\n",
      "Hit:12 http://ppa.launchpad.net/flexiondotorg/nvtop/ubuntu jammy InRelease     \u001b[0m\u001b[33m\n",
      "Hit:13 https://ppa.launchpadcontent.net/deadsnakes/ppa/ubuntu jammy InRelease  \u001b[33m\u001b[33m\u001b[33m\n",
      "Fetched 1484 B in 1s (1849 B/s)\n",
      "Reading package lists... Done\n",
      "Building dependency tree... Done\n",
      "Reading state information... Done\n",
      "196 packages can be upgraded. Run 'apt list --upgradable' to see them.\n",
      "Reading package lists... Done\n",
      "Building dependency tree... Done\n",
      "Reading state information... Done\n",
      "default-jre is already the newest version (2:1.11-72build2).\n",
      "0 upgraded, 0 newly installed, 0 to remove and 196 not upgraded.\n",
      "Defaulting to user installation because normal site-packages is not writeable\n",
      "Requirement already satisfied: autogluon in /home/ubuntu/.local/lib/python3.10/site-packages (1.0.0)\n",
      "Requirement already satisfied: language_tool_python in /home/ubuntu/.local/lib/python3.10/site-packages (2.8)\n",
      "Requirement already satisfied: autogluon.core==1.0.0 in /home/ubuntu/.local/lib/python3.10/site-packages (from autogluon.core[all]==1.0.0->autogluon) (1.0.0)\n",
      "Requirement already satisfied: autogluon.features==1.0.0 in /home/ubuntu/.local/lib/python3.10/site-packages (from autogluon) (1.0.0)\n",
      "Requirement already satisfied: autogluon.tabular==1.0.0 in /home/ubuntu/.local/lib/python3.10/site-packages (from autogluon.tabular[all]==1.0.0->autogluon) (1.0.0)\n",
      "Requirement already satisfied: autogluon.multimodal==1.0.0 in /home/ubuntu/.local/lib/python3.10/site-packages (from autogluon) (1.0.0)\n",
      "Requirement already satisfied: autogluon.timeseries==1.0.0 in /home/ubuntu/.local/lib/python3.10/site-packages (from autogluon.timeseries[all]==1.0.0->autogluon) (1.0.0)\n",
      "Requirement already satisfied: numpy<1.29,>=1.21 in /home/ubuntu/.local/lib/python3.10/site-packages (from autogluon.core==1.0.0->autogluon.core[all]==1.0.0->autogluon) (1.25.2)\n",
      "Requirement already satisfied: scipy<1.13,>=1.5.4 in /usr/lib/python3/dist-packages (from autogluon.core==1.0.0->autogluon.core[all]==1.0.0->autogluon) (1.8.0)\n",
      "Requirement already satisfied: scikit-learn<1.5,>=1.3.0 in /home/ubuntu/.local/lib/python3.10/site-packages (from autogluon.core==1.0.0->autogluon.core[all]==1.0.0->autogluon) (1.4.2)\n",
      "Requirement already satisfied: networkx<4,>=3.0 in /home/ubuntu/.local/lib/python3.10/site-packages (from autogluon.core==1.0.0->autogluon.core[all]==1.0.0->autogluon) (3.3)\n",
      "Requirement already satisfied: pandas<2.2.0,>=2.0.0 in /home/ubuntu/.local/lib/python3.10/site-packages (from autogluon.core==1.0.0->autogluon.core[all]==1.0.0->autogluon) (2.1.4)\n",
      "Requirement already satisfied: tqdm<5,>=4.38 in /home/ubuntu/.local/lib/python3.10/site-packages (from autogluon.core==1.0.0->autogluon.core[all]==1.0.0->autogluon) (4.65.2)\n",
      "Requirement already satisfied: requests in /home/ubuntu/.local/lib/python3.10/site-packages (from autogluon.core==1.0.0->autogluon.core[all]==1.0.0->autogluon) (2.28.2)\n",
      "Requirement already satisfied: matplotlib in /usr/lib/python3/dist-packages (from autogluon.core==1.0.0->autogluon.core[all]==1.0.0->autogluon) (3.5.1)\n",
      "Requirement already satisfied: boto3<2,>=1.10 in /home/ubuntu/.local/lib/python3.10/site-packages (from autogluon.core==1.0.0->autogluon.core[all]==1.0.0->autogluon) (1.34.84)\n",
      "Requirement already satisfied: autogluon.common==1.0.0 in /home/ubuntu/.local/lib/python3.10/site-packages (from autogluon.core==1.0.0->autogluon.core[all]==1.0.0->autogluon) (1.0.0)\n",
      "Requirement already satisfied: ray<2.7,>=2.6.3 in /home/ubuntu/.local/lib/python3.10/site-packages (from ray[default]<2.7,>=2.6.3; extra == \"all\"->autogluon.core[all]==1.0.0->autogluon) (2.6.3)\n",
      "Requirement already satisfied: async-timeout in /home/ubuntu/.local/lib/python3.10/site-packages (from autogluon.core[all]==1.0.0->autogluon) (4.0.3)\n",
      "Requirement already satisfied: hyperopt<0.2.8,>=0.2.7 in /home/ubuntu/.local/lib/python3.10/site-packages (from autogluon.core[all]==1.0.0->autogluon) (0.2.7)\n",
      "Requirement already satisfied: Pillow<11,>=10.0.1 in /home/ubuntu/.local/lib/python3.10/site-packages (from autogluon.multimodal==1.0.0->autogluon) (10.3.0)\n",
      "Requirement already satisfied: torch<2.1,>=2.0 in /usr/lib/python3/dist-packages (from autogluon.multimodal==1.0.0->autogluon) (2.0.1)\n",
      "Requirement already satisfied: lightning<2.1,>=2.0.0 in /home/ubuntu/.local/lib/python3.10/site-packages (from autogluon.multimodal==1.0.0->autogluon) (2.0.9.post0)\n",
      "Requirement already satisfied: jsonschema<4.18,>=4.14 in /home/ubuntu/.local/lib/python3.10/site-packages (from autogluon.multimodal==1.0.0->autogluon) (4.17.3)\n",
      "Requirement already satisfied: seqeval<1.3.0,>=1.2.2 in /home/ubuntu/.local/lib/python3.10/site-packages (from autogluon.multimodal==1.0.0->autogluon) (1.2.2)\n",
      "Requirement already satisfied: evaluate<0.5.0,>=0.4.0 in /home/ubuntu/.local/lib/python3.10/site-packages (from autogluon.multimodal==1.0.0->autogluon) (0.4.1)\n",
      "Requirement already satisfied: accelerate<0.22.0,>=0.21.0 in /home/ubuntu/.local/lib/python3.10/site-packages (from autogluon.multimodal==1.0.0->autogluon) (0.21.0)\n",
      "Requirement already satisfied: transformers<4.32.0,>=4.31.0 in /home/ubuntu/.local/lib/python3.10/site-packages (from transformers[sentencepiece]<4.32.0,>=4.31.0->autogluon.multimodal==1.0.0->autogluon) (4.31.0)\n",
      "Requirement already satisfied: timm<0.10.0,>=0.9.5 in /home/ubuntu/.local/lib/python3.10/site-packages (from autogluon.multimodal==1.0.0->autogluon) (0.9.16)\n",
      "Requirement already satisfied: torchvision<0.16.0,>=0.14.0 in /usr/lib/python3/dist-packages (from autogluon.multimodal==1.0.0->autogluon) (0.15.2)\n",
      "Requirement already satisfied: scikit-image<0.21.0,>=0.19.1 in /home/ubuntu/.local/lib/python3.10/site-packages (from autogluon.multimodal==1.0.0->autogluon) (0.20.0)\n",
      "Requirement already satisfied: text-unidecode<1.4,>=1.3 in /home/ubuntu/.local/lib/python3.10/site-packages (from autogluon.multimodal==1.0.0->autogluon) (1.3)\n",
      "Requirement already satisfied: torchmetrics<1.2.0,>=1.0.0 in /home/ubuntu/.local/lib/python3.10/site-packages (from autogluon.multimodal==1.0.0->autogluon) (1.1.2)\n",
      "Requirement already satisfied: nptyping<2.5.0,>=1.4.4 in /home/ubuntu/.local/lib/python3.10/site-packages (from autogluon.multimodal==1.0.0->autogluon) (2.4.1)\n",
      "Requirement already satisfied: omegaconf<2.3.0,>=2.1.1 in /home/ubuntu/.local/lib/python3.10/site-packages (from autogluon.multimodal==1.0.0->autogluon) (2.2.3)\n",
      "Requirement already satisfied: pytorch-metric-learning<2.0,>=1.3.0 in /home/ubuntu/.local/lib/python3.10/site-packages (from autogluon.multimodal==1.0.0->autogluon) (1.7.3)\n",
      "Requirement already satisfied: nlpaug<1.2.0,>=1.1.10 in /home/ubuntu/.local/lib/python3.10/site-packages (from autogluon.multimodal==1.0.0->autogluon) (1.1.11)\n",
      "Requirement already satisfied: nltk<4.0.0,>=3.4.5 in /home/ubuntu/.local/lib/python3.10/site-packages (from autogluon.multimodal==1.0.0->autogluon) (3.8.1)\n",
      "Requirement already satisfied: openmim<0.4.0,>=0.3.7 in /home/ubuntu/.local/lib/python3.10/site-packages (from autogluon.multimodal==1.0.0->autogluon) (0.3.9)\n",
      "Requirement already satisfied: defusedxml<0.7.2,>=0.7.1 in /usr/lib/python3/dist-packages (from autogluon.multimodal==1.0.0->autogluon) (0.7.1)\n",
      "Requirement already satisfied: jinja2<3.2,>=3.0.3 in /usr/lib/python3/dist-packages (from autogluon.multimodal==1.0.0->autogluon) (3.0.3)\n",
      "Requirement already satisfied: tensorboard<3,>=2.9 in /usr/lib/python3/dist-packages (from autogluon.multimodal==1.0.0->autogluon) (2.13.0)\n",
      "Requirement already satisfied: pytesseract<0.3.11,>=0.3.9 in /home/ubuntu/.local/lib/python3.10/site-packages (from autogluon.multimodal==1.0.0->autogluon) (0.3.10)\n",
      "Requirement already satisfied: nvidia-ml-py3==7.352.0 in /usr/lib/python3/dist-packages (from autogluon.multimodal==1.0.0->autogluon) (7.352.0)\n",
      "Requirement already satisfied: xgboost<2.1,>=1.6 in /home/ubuntu/.local/lib/python3.10/site-packages (from autogluon.tabular[all]==1.0.0->autogluon) (2.0.3)\n",
      "Requirement already satisfied: fastai<2.8,>=2.3.1 in /home/ubuntu/.local/lib/python3.10/site-packages (from autogluon.tabular[all]==1.0.0->autogluon) (2.7.14)\n",
      "Requirement already satisfied: lightgbm<4.2,>=3.3 in /home/ubuntu/.local/lib/python3.10/site-packages (from autogluon.tabular[all]==1.0.0->autogluon) (4.1.0)\n",
      "Requirement already satisfied: catboost<1.3,>=1.1 in /home/ubuntu/.local/lib/python3.10/site-packages (from autogluon.tabular[all]==1.0.0->autogluon) (1.2.3)\n",
      "Requirement already satisfied: joblib<2,>=1.1 in /home/ubuntu/.local/lib/python3.10/site-packages (from autogluon.timeseries==1.0.0->autogluon.timeseries[all]==1.0.0->autogluon) (1.4.0)\n",
      "Requirement already satisfied: pytorch-lightning<2.1,>=2.0.0 in /home/ubuntu/.local/lib/python3.10/site-packages (from autogluon.timeseries==1.0.0->autogluon.timeseries[all]==1.0.0->autogluon) (2.0.9.post0)\n",
      "Requirement already satisfied: statsmodels<0.15,>=0.13.0 in /home/ubuntu/.local/lib/python3.10/site-packages (from autogluon.timeseries==1.0.0->autogluon.timeseries[all]==1.0.0->autogluon) (0.14.0)\n",
      "Requirement already satisfied: gluonts<0.15,>=0.14.0 in /home/ubuntu/.local/lib/python3.10/site-packages (from autogluon.timeseries==1.0.0->autogluon.timeseries[all]==1.0.0->autogluon) (0.14.4)\n",
      "Requirement already satisfied: statsforecast<1.5,>=1.4.0 in /home/ubuntu/.local/lib/python3.10/site-packages (from autogluon.timeseries==1.0.0->autogluon.timeseries[all]==1.0.0->autogluon) (1.4.0)\n",
      "Requirement already satisfied: mlforecast<0.10.1,>=0.10.0 in /home/ubuntu/.local/lib/python3.10/site-packages (from autogluon.timeseries==1.0.0->autogluon.timeseries[all]==1.0.0->autogluon) (0.10.0)\n",
      "Requirement already satisfied: utilsforecast<0.0.11,>=0.0.10 in /home/ubuntu/.local/lib/python3.10/site-packages (from autogluon.timeseries==1.0.0->autogluon.timeseries[all]==1.0.0->autogluon) (0.0.10)\n",
      "Requirement already satisfied: orjson~=3.9 in /home/ubuntu/.local/lib/python3.10/site-packages (from autogluon.timeseries==1.0.0->autogluon.timeseries[all]==1.0.0->autogluon) (3.10.0)\n",
      "Requirement already satisfied: psutil<6,>=5.7.3 in /usr/lib/python3/dist-packages (from autogluon.common==1.0.0->autogluon.core==1.0.0->autogluon.core[all]==1.0.0->autogluon) (5.9.0)\n",
      "Requirement already satisfied: setuptools in /home/ubuntu/.local/lib/python3.10/site-packages (from autogluon.common==1.0.0->autogluon.core==1.0.0->autogluon.core[all]==1.0.0->autogluon) (60.2.0)\n",
      "Requirement already satisfied: pip in /home/ubuntu/.local/lib/python3.10/site-packages (from language_tool_python) (23.3.1)\n",
      "Requirement already satisfied: wheel in /usr/lib/python3/dist-packages (from language_tool_python) (0.37.1)\n",
      "Requirement already satisfied: charset-normalizer<4,>=2 in /home/ubuntu/.local/lib/python3.10/site-packages (from requests->autogluon.core==1.0.0->autogluon.core[all]==1.0.0->autogluon) (3.3.2)\n",
      "Requirement already satisfied: idna<4,>=2.5 in /usr/lib/python3/dist-packages (from requests->autogluon.core==1.0.0->autogluon.core[all]==1.0.0->autogluon) (3.3)\n",
      "Requirement already satisfied: urllib3<1.27,>=1.21.1 in /usr/lib/python3/dist-packages (from requests->autogluon.core==1.0.0->autogluon.core[all]==1.0.0->autogluon) (1.26.5)\n",
      "Requirement already satisfied: certifi>=2017.4.17 in /usr/lib/python3/dist-packages (from requests->autogluon.core==1.0.0->autogluon.core[all]==1.0.0->autogluon) (2020.6.20)\n",
      "Requirement already satisfied: packaging>=20.0 in /usr/lib/python3/dist-packages (from accelerate<0.22.0,>=0.21.0->autogluon.multimodal==1.0.0->autogluon) (21.3)\n",
      "Requirement already satisfied: pyyaml in /home/ubuntu/.local/lib/python3.10/site-packages (from accelerate<0.22.0,>=0.21.0->autogluon.multimodal==1.0.0->autogluon) (6.0.1)\n",
      "Requirement already satisfied: botocore<1.35.0,>=1.34.84 in /home/ubuntu/.local/lib/python3.10/site-packages (from boto3<2,>=1.10->autogluon.core==1.0.0->autogluon.core[all]==1.0.0->autogluon) (1.34.84)\n",
      "Requirement already satisfied: jmespath<2.0.0,>=0.7.1 in /home/ubuntu/.local/lib/python3.10/site-packages (from boto3<2,>=1.10->autogluon.core==1.0.0->autogluon.core[all]==1.0.0->autogluon) (0.10.0)\n",
      "Requirement already satisfied: s3transfer<0.11.0,>=0.10.0 in /home/ubuntu/.local/lib/python3.10/site-packages (from boto3<2,>=1.10->autogluon.core==1.0.0->autogluon.core[all]==1.0.0->autogluon) (0.10.1)\n",
      "Requirement already satisfied: graphviz in /home/ubuntu/.local/lib/python3.10/site-packages (from catboost<1.3,>=1.1->autogluon.tabular[all]==1.0.0->autogluon) (0.20.3)\n",
      "Requirement already satisfied: plotly in /home/ubuntu/.local/lib/python3.10/site-packages (from catboost<1.3,>=1.1->autogluon.tabular[all]==1.0.0->autogluon) (5.20.0)\n",
      "Requirement already satisfied: six in /usr/lib/python3/dist-packages (from catboost<1.3,>=1.1->autogluon.tabular[all]==1.0.0->autogluon) (1.16.0)\n",
      "Requirement already satisfied: datasets>=2.0.0 in /home/ubuntu/.local/lib/python3.10/site-packages (from evaluate<0.5.0,>=0.4.0->autogluon.multimodal==1.0.0->autogluon) (2.18.0)\n",
      "Requirement already satisfied: dill in /home/ubuntu/.local/lib/python3.10/site-packages (from evaluate<0.5.0,>=0.4.0->autogluon.multimodal==1.0.0->autogluon) (0.3.8)\n",
      "Requirement already satisfied: xxhash in /home/ubuntu/.local/lib/python3.10/site-packages (from evaluate<0.5.0,>=0.4.0->autogluon.multimodal==1.0.0->autogluon) (3.4.1)\n",
      "Requirement already satisfied: multiprocess in /home/ubuntu/.local/lib/python3.10/site-packages (from evaluate<0.5.0,>=0.4.0->autogluon.multimodal==1.0.0->autogluon) (0.70.16)\n",
      "Requirement already satisfied: fsspec>=2021.05.0 in /home/ubuntu/.local/lib/python3.10/site-packages (from fsspec[http]>=2021.05.0->evaluate<0.5.0,>=0.4.0->autogluon.multimodal==1.0.0->autogluon) (2024.2.0)\n",
      "Requirement already satisfied: huggingface-hub>=0.7.0 in /home/ubuntu/.local/lib/python3.10/site-packages (from evaluate<0.5.0,>=0.4.0->autogluon.multimodal==1.0.0->autogluon) (0.22.2)\n",
      "Requirement already satisfied: responses<0.19 in /home/ubuntu/.local/lib/python3.10/site-packages (from evaluate<0.5.0,>=0.4.0->autogluon.multimodal==1.0.0->autogluon) (0.18.0)\n",
      "Requirement already satisfied: fastdownload<2,>=0.0.5 in /home/ubuntu/.local/lib/python3.10/site-packages (from fastai<2.8,>=2.3.1->autogluon.tabular[all]==1.0.0->autogluon) (0.0.7)\n",
      "Requirement already satisfied: fastcore<1.6,>=1.5.29 in /home/ubuntu/.local/lib/python3.10/site-packages (from fastai<2.8,>=2.3.1->autogluon.tabular[all]==1.0.0->autogluon) (1.5.29)\n",
      "Requirement already satisfied: fastprogress>=0.2.4 in /home/ubuntu/.local/lib/python3.10/site-packages (from fastai<2.8,>=2.3.1->autogluon.tabular[all]==1.0.0->autogluon) (1.0.3)\n",
      "Requirement already satisfied: spacy<4 in /home/ubuntu/.local/lib/python3.10/site-packages (from fastai<2.8,>=2.3.1->autogluon.tabular[all]==1.0.0->autogluon) (3.7.4)\n",
      "Requirement already satisfied: pydantic<3,>=1.7 in /home/ubuntu/.local/lib/python3.10/site-packages (from gluonts<0.15,>=0.14.0->autogluon.timeseries==1.0.0->autogluon.timeseries[all]==1.0.0->autogluon) (1.10.15)\n",
      "Requirement already satisfied: toolz~=0.10 in /home/ubuntu/.local/lib/python3.10/site-packages (from gluonts<0.15,>=0.14.0->autogluon.timeseries==1.0.0->autogluon.timeseries[all]==1.0.0->autogluon) (0.12.1)\n",
      "Requirement already satisfied: typing-extensions~=4.0 in /home/ubuntu/.local/lib/python3.10/site-packages (from gluonts<0.15,>=0.14.0->autogluon.timeseries==1.0.0->autogluon.timeseries[all]==1.0.0->autogluon) (4.8.0)\n",
      "Requirement already satisfied: future in /usr/lib/python3/dist-packages (from hyperopt<0.2.8,>=0.2.7->autogluon.core[all]==1.0.0->autogluon) (0.18.2)\n",
      "Requirement already satisfied: cloudpickle in /home/ubuntu/.local/lib/python3.10/site-packages (from hyperopt<0.2.8,>=0.2.7->autogluon.core[all]==1.0.0->autogluon) (3.0.0)\n",
      "Requirement already satisfied: py4j in /home/ubuntu/.local/lib/python3.10/site-packages (from hyperopt<0.2.8,>=0.2.7->autogluon.core[all]==1.0.0->autogluon) (0.10.9.7)\n",
      "Requirement already satisfied: attrs>=17.4.0 in /home/ubuntu/.local/lib/python3.10/site-packages (from jsonschema<4.18,>=4.14->autogluon.multimodal==1.0.0->autogluon) (23.1.0)\n",
      "Requirement already satisfied: pyrsistent!=0.17.0,!=0.17.1,!=0.17.2,>=0.14.0 in /usr/lib/python3/dist-packages (from jsonschema<4.18,>=4.14->autogluon.multimodal==1.0.0->autogluon) (0.18.1)\n",
      "Requirement already satisfied: arrow<3.0,>=1.2.0 in /home/ubuntu/.local/lib/python3.10/site-packages (from lightning<2.1,>=2.0.0->autogluon.multimodal==1.0.0->autogluon) (1.3.0)\n",
      "Requirement already satisfied: backoff<4.0,>=2.2.1 in /home/ubuntu/.local/lib/python3.10/site-packages (from lightning<2.1,>=2.0.0->autogluon.multimodal==1.0.0->autogluon) (2.2.1)\n",
      "Requirement already satisfied: beautifulsoup4<6.0,>=4.8.0 in /usr/lib/python3/dist-packages (from lightning<2.1,>=2.0.0->autogluon.multimodal==1.0.0->autogluon) (4.10.0)\n",
      "Requirement already satisfied: click<10.0 in /usr/lib/python3/dist-packages (from lightning<2.1,>=2.0.0->autogluon.multimodal==1.0.0->autogluon) (8.0.3)\n",
      "Requirement already satisfied: croniter<1.5.0,>=1.3.0 in /home/ubuntu/.local/lib/python3.10/site-packages (from lightning<2.1,>=2.0.0->autogluon.multimodal==1.0.0->autogluon) (1.4.1)\n",
      "Requirement already satisfied: dateutils<2.0 in /home/ubuntu/.local/lib/python3.10/site-packages (from lightning<2.1,>=2.0.0->autogluon.multimodal==1.0.0->autogluon) (0.6.12)\n",
      "Requirement already satisfied: deepdiff<8.0,>=5.7.0 in /home/ubuntu/.local/lib/python3.10/site-packages (from lightning<2.1,>=2.0.0->autogluon.multimodal==1.0.0->autogluon) (7.0.1)\n",
      "Requirement already satisfied: fastapi<2.0,>=0.92.0 in /home/ubuntu/.local/lib/python3.10/site-packages (from lightning<2.1,>=2.0.0->autogluon.multimodal==1.0.0->autogluon) (0.110.1)\n",
      "Requirement already satisfied: inquirer<5.0,>=2.10.0 in /home/ubuntu/.local/lib/python3.10/site-packages (from lightning<2.1,>=2.0.0->autogluon.multimodal==1.0.0->autogluon) (3.2.4)\n",
      "Requirement already satisfied: lightning-cloud>=0.5.38 in /home/ubuntu/.local/lib/python3.10/site-packages (from lightning<2.1,>=2.0.0->autogluon.multimodal==1.0.0->autogluon) (0.5.65)\n",
      "Requirement already satisfied: lightning-utilities<2.0,>=0.7.0 in /home/ubuntu/.local/lib/python3.10/site-packages (from lightning<2.1,>=2.0.0->autogluon.multimodal==1.0.0->autogluon) (0.11.2)\n",
      "Requirement already satisfied: python-multipart<2.0,>=0.0.5 in /home/ubuntu/.local/lib/python3.10/site-packages (from lightning<2.1,>=2.0.0->autogluon.multimodal==1.0.0->autogluon) (0.0.9)\n",
      "Requirement already satisfied: rich<15.0,>=12.3.0 in /home/ubuntu/.local/lib/python3.10/site-packages (from lightning<2.1,>=2.0.0->autogluon.multimodal==1.0.0->autogluon) (13.4.2)\n",
      "Requirement already satisfied: starlette in /home/ubuntu/.local/lib/python3.10/site-packages (from lightning<2.1,>=2.0.0->autogluon.multimodal==1.0.0->autogluon) (0.37.2)\n",
      "Requirement already satisfied: starsessions<2.0,>=1.2.1 in /home/ubuntu/.local/lib/python3.10/site-packages (from lightning<2.1,>=2.0.0->autogluon.multimodal==1.0.0->autogluon) (1.3.0)\n",
      "Requirement already satisfied: traitlets<7.0,>=5.3.0 in /home/ubuntu/.local/lib/python3.10/site-packages (from lightning<2.1,>=2.0.0->autogluon.multimodal==1.0.0->autogluon) (5.14.0)\n",
      "Requirement already satisfied: uvicorn<2.0 in /home/ubuntu/.local/lib/python3.10/site-packages (from lightning<2.1,>=2.0.0->autogluon.multimodal==1.0.0->autogluon) (0.29.0)\n",
      "Requirement already satisfied: websocket-client<3.0 in /usr/lib/python3/dist-packages (from lightning<2.1,>=2.0.0->autogluon.multimodal==1.0.0->autogluon) (1.2.3)\n",
      "Requirement already satisfied: websockets<13.0 in /home/ubuntu/.local/lib/python3.10/site-packages (from lightning<2.1,>=2.0.0->autogluon.multimodal==1.0.0->autogluon) (12.0)\n",
      "Requirement already satisfied: numba in /home/ubuntu/.local/lib/python3.10/site-packages (from mlforecast<0.10.1,>=0.10.0->autogluon.timeseries==1.0.0->autogluon.timeseries[all]==1.0.0->autogluon) (0.58.1)\n",
      "Requirement already satisfied: window-ops in /home/ubuntu/.local/lib/python3.10/site-packages (from mlforecast<0.10.1,>=0.10.0->autogluon.timeseries==1.0.0->autogluon.timeseries[all]==1.0.0->autogluon) (0.0.15)\n",
      "Requirement already satisfied: gdown>=4.0.0 in /home/ubuntu/.local/lib/python3.10/site-packages (from nlpaug<1.2.0,>=1.1.10->autogluon.multimodal==1.0.0->autogluon) (5.1.0)\n",
      "Requirement already satisfied: regex>=2021.8.3 in /home/ubuntu/.local/lib/python3.10/site-packages (from nltk<4.0.0,>=3.4.5->autogluon.multimodal==1.0.0->autogluon) (2023.12.25)\n",
      "Requirement already satisfied: antlr4-python3-runtime==4.9.* in /home/ubuntu/.local/lib/python3.10/site-packages (from omegaconf<2.3.0,>=2.1.1->autogluon.multimodal==1.0.0->autogluon) (4.9.3)\n",
      "Requirement already satisfied: colorama in /usr/lib/python3/dist-packages (from openmim<0.4.0,>=0.3.7->autogluon.multimodal==1.0.0->autogluon) (0.4.4)\n",
      "Requirement already satisfied: model-index in /home/ubuntu/.local/lib/python3.10/site-packages (from openmim<0.4.0,>=0.3.7->autogluon.multimodal==1.0.0->autogluon) (0.1.11)\n",
      "Requirement already satisfied: opendatalab in /home/ubuntu/.local/lib/python3.10/site-packages (from openmim<0.4.0,>=0.3.7->autogluon.multimodal==1.0.0->autogluon) (0.0.10)\n",
      "Requirement already satisfied: tabulate in /home/ubuntu/.local/lib/python3.10/site-packages (from openmim<0.4.0,>=0.3.7->autogluon.multimodal==1.0.0->autogluon) (0.9.0)\n",
      "Requirement already satisfied: python-dateutil>=2.8.2 in /home/ubuntu/.local/lib/python3.10/site-packages (from pandas<2.2.0,>=2.0.0->autogluon.core==1.0.0->autogluon.core[all]==1.0.0->autogluon) (2.8.2)\n",
      "Requirement already satisfied: pytz>=2020.1 in /home/ubuntu/.local/lib/python3.10/site-packages (from pandas<2.2.0,>=2.0.0->autogluon.core==1.0.0->autogluon.core[all]==1.0.0->autogluon) (2023.4)\n",
      "Requirement already satisfied: tzdata>=2022.1 in /home/ubuntu/.local/lib/python3.10/site-packages (from pandas<2.2.0,>=2.0.0->autogluon.core==1.0.0->autogluon.core[all]==1.0.0->autogluon) (2024.1)\n",
      "Requirement already satisfied: filelock in /usr/lib/python3/dist-packages (from ray<2.7,>=2.6.3->ray[default]<2.7,>=2.6.3; extra == \"all\"->autogluon.core[all]==1.0.0->autogluon) (3.6.0)\n",
      "Requirement already satisfied: msgpack<2.0.0,>=1.0.0 in /usr/lib/python3/dist-packages (from ray<2.7,>=2.6.3->ray[default]<2.7,>=2.6.3; extra == \"all\"->autogluon.core[all]==1.0.0->autogluon) (1.0.3)\n",
      "Requirement already satisfied: protobuf!=3.19.5,>=3.15.3 in /usr/lib/python3/dist-packages (from ray<2.7,>=2.6.3->ray[default]<2.7,>=2.6.3; extra == \"all\"->autogluon.core[all]==1.0.0->autogluon) (4.21.12)\n",
      "Requirement already satisfied: aiosignal in /home/ubuntu/.local/lib/python3.10/site-packages (from ray<2.7,>=2.6.3->ray[default]<2.7,>=2.6.3; extra == \"all\"->autogluon.core[all]==1.0.0->autogluon) (1.3.1)\n",
      "Requirement already satisfied: frozenlist in /home/ubuntu/.local/lib/python3.10/site-packages (from ray<2.7,>=2.6.3->ray[default]<2.7,>=2.6.3; extra == \"all\"->autogluon.core[all]==1.0.0->autogluon) (1.4.1)\n",
      "Requirement already satisfied: grpcio>=1.42.0 in /home/ubuntu/.local/lib/python3.10/site-packages (from ray<2.7,>=2.6.3->ray[default]<2.7,>=2.6.3; extra == \"all\"->autogluon.core[all]==1.0.0->autogluon) (1.62.1)\n",
      "Requirement already satisfied: aiohttp>=3.7 in /home/ubuntu/.local/lib/python3.10/site-packages (from ray[default,tune]<2.7,>=2.6.3; extra == \"all\"->autogluon.core[all]==1.0.0->autogluon) (3.9.4)\n",
      "Requirement already satisfied: aiohttp-cors in /home/ubuntu/.local/lib/python3.10/site-packages (from ray[default,tune]<2.7,>=2.6.3; extra == \"all\"->autogluon.core[all]==1.0.0->autogluon) (0.7.0)\n",
      "Requirement already satisfied: colorful in /home/ubuntu/.local/lib/python3.10/site-packages (from ray[default,tune]<2.7,>=2.6.3; extra == \"all\"->autogluon.core[all]==1.0.0->autogluon) (0.5.6)\n",
      "Requirement already satisfied: py-spy>=0.2.0 in /home/ubuntu/.local/lib/python3.10/site-packages (from ray[default,tune]<2.7,>=2.6.3; extra == \"all\"->autogluon.core[all]==1.0.0->autogluon) (0.3.14)\n",
      "Requirement already satisfied: gpustat>=1.0.0 in /home/ubuntu/.local/lib/python3.10/site-packages (from ray[default,tune]<2.7,>=2.6.3; extra == \"all\"->autogluon.core[all]==1.0.0->autogluon) (1.1.1)\n",
      "Requirement already satisfied: opencensus in /home/ubuntu/.local/lib/python3.10/site-packages (from ray[default,tune]<2.7,>=2.6.3; extra == \"all\"->autogluon.core[all]==1.0.0->autogluon) (0.11.4)\n",
      "Requirement already satisfied: prometheus-client>=0.7.1 in /usr/lib/python3/dist-packages (from ray[default,tune]<2.7,>=2.6.3; extra == \"all\"->autogluon.core[all]==1.0.0->autogluon) (0.9.0)\n",
      "Requirement already satisfied: smart-open in /home/ubuntu/.local/lib/python3.10/site-packages (from ray[default,tune]<2.7,>=2.6.3; extra == \"all\"->autogluon.core[all]==1.0.0->autogluon) (6.4.0)\n",
      "Requirement already satisfied: virtualenv<20.21.1,>=20.0.24 in /usr/lib/python3/dist-packages (from ray[default,tune]<2.7,>=2.6.3; extra == \"all\"->autogluon.core[all]==1.0.0->autogluon) (20.13.0+ds)\n",
      "Requirement already satisfied: tensorboardX>=1.9 in /home/ubuntu/.local/lib/python3.10/site-packages (from ray[default,tune]<2.7,>=2.6.3; extra == \"all\"->autogluon.core[all]==1.0.0->autogluon) (2.6.2.2)\n",
      "Requirement already satisfied: pyarrow>=6.0.1 in /home/ubuntu/.local/lib/python3.10/site-packages (from ray[default,tune]<2.7,>=2.6.3; extra == \"all\"->autogluon.core[all]==1.0.0->autogluon) (15.0.2)\n",
      "Requirement already satisfied: imageio>=2.4.1 in /home/ubuntu/.local/lib/python3.10/site-packages (from scikit-image<0.21.0,>=0.19.1->autogluon.multimodal==1.0.0->autogluon) (2.34.0)\n",
      "Requirement already satisfied: tifffile>=2019.7.26 in /home/ubuntu/.local/lib/python3.10/site-packages (from scikit-image<0.21.0,>=0.19.1->autogluon.multimodal==1.0.0->autogluon) (2024.2.12)\n",
      "Requirement already satisfied: PyWavelets>=1.1.1 in /home/ubuntu/.local/lib/python3.10/site-packages (from scikit-image<0.21.0,>=0.19.1->autogluon.multimodal==1.0.0->autogluon) (1.5.0)\n",
      "Requirement already satisfied: lazy_loader>=0.1 in /home/ubuntu/.local/lib/python3.10/site-packages (from scikit-image<0.21.0,>=0.19.1->autogluon.multimodal==1.0.0->autogluon) (0.4)\n",
      "Requirement already satisfied: threadpoolctl>=2.0.0 in /usr/lib/python3/dist-packages (from scikit-learn<1.5,>=1.3.0->autogluon.core==1.0.0->autogluon.core[all]==1.0.0->autogluon) (3.1.0)\n",
      "Requirement already satisfied: patsy>=0.5.2 in /home/ubuntu/.local/lib/python3.10/site-packages (from statsmodels<0.15,>=0.13.0->autogluon.timeseries==1.0.0->autogluon.timeseries[all]==1.0.0->autogluon) (0.5.4)\n",
      "Requirement already satisfied: safetensors in /home/ubuntu/.local/lib/python3.10/site-packages (from timm<0.10.0,>=0.9.5->autogluon.multimodal==1.0.0->autogluon) (0.4.3)\n",
      "Requirement already satisfied: tokenizers!=0.11.3,<0.14,>=0.11.1 in /home/ubuntu/.local/lib/python3.10/site-packages (from transformers<4.32.0,>=4.31.0->transformers[sentencepiece]<4.32.0,>=4.31.0->autogluon.multimodal==1.0.0->autogluon) (0.13.3)\n",
      "Requirement already satisfied: sentencepiece!=0.1.92,>=0.1.91 in /home/ubuntu/.local/lib/python3.10/site-packages (from transformers[sentencepiece]<4.32.0,>=4.31.0->autogluon.multimodal==1.0.0->autogluon) (0.2.0)\n",
      "Requirement already satisfied: multidict<7.0,>=4.5 in /home/ubuntu/.local/lib/python3.10/site-packages (from aiohttp>=3.7->ray[default,tune]<2.7,>=2.6.3; extra == \"all\"->autogluon.core[all]==1.0.0->autogluon) (6.0.5)\n",
      "Requirement already satisfied: yarl<2.0,>=1.0 in /home/ubuntu/.local/lib/python3.10/site-packages (from aiohttp>=3.7->ray[default,tune]<2.7,>=2.6.3; extra == \"all\"->autogluon.core[all]==1.0.0->autogluon) (1.9.4)\n",
      "Requirement already satisfied: types-python-dateutil>=2.8.10 in /home/ubuntu/.local/lib/python3.10/site-packages (from arrow<3.0,>=1.2.0->lightning<2.1,>=2.0.0->autogluon.multimodal==1.0.0->autogluon) (2.8.19.14)\n",
      "Requirement already satisfied: pyarrow-hotfix in /home/ubuntu/.local/lib/python3.10/site-packages (from datasets>=2.0.0->evaluate<0.5.0,>=0.4.0->autogluon.multimodal==1.0.0->autogluon) (0.6)\n",
      "Requirement already satisfied: ordered-set<4.2.0,>=4.1.0 in /home/ubuntu/.local/lib/python3.10/site-packages (from deepdiff<8.0,>=5.7.0->lightning<2.1,>=2.0.0->autogluon.multimodal==1.0.0->autogluon) (4.1.0)\n",
      "Requirement already satisfied: nvidia-ml-py>=11.450.129 in /home/ubuntu/.local/lib/python3.10/site-packages (from gpustat>=1.0.0->ray[default,tune]<2.7,>=2.6.3; extra == \"all\"->autogluon.core[all]==1.0.0->autogluon) (12.535.133)\n",
      "Requirement already satisfied: blessed>=1.17.1 in /home/ubuntu/.local/lib/python3.10/site-packages (from gpustat>=1.0.0->ray[default,tune]<2.7,>=2.6.3; extra == \"all\"->autogluon.core[all]==1.0.0->autogluon) (1.20.0)\n",
      "Requirement already satisfied: editor>=1.6.0 in /home/ubuntu/.local/lib/python3.10/site-packages (from inquirer<5.0,>=2.10.0->lightning<2.1,>=2.0.0->autogluon.multimodal==1.0.0->autogluon) (1.6.6)\n",
      "Requirement already satisfied: readchar>=3.0.6 in /home/ubuntu/.local/lib/python3.10/site-packages (from inquirer<5.0,>=2.10.0->lightning<2.1,>=2.0.0->autogluon.multimodal==1.0.0->autogluon) (4.0.6)\n",
      "Requirement already satisfied: pyjwt in /usr/lib/python3/dist-packages (from lightning-cloud>=0.5.38->lightning<2.1,>=2.0.0->autogluon.multimodal==1.0.0->autogluon) (2.3.0)\n",
      "Requirement already satisfied: llvmlite<0.42,>=0.41.0dev0 in /home/ubuntu/.local/lib/python3.10/site-packages (from numba->mlforecast<0.10.1,>=0.10.0->autogluon.timeseries==1.0.0->autogluon.timeseries[all]==1.0.0->autogluon) (0.41.1)\n",
      "Requirement already satisfied: markdown-it-py>=2.2.0 in /home/ubuntu/.local/lib/python3.10/site-packages (from rich<15.0,>=12.3.0->lightning<2.1,>=2.0.0->autogluon.multimodal==1.0.0->autogluon) (3.0.0)\n",
      "Requirement already satisfied: pygments<3.0.0,>=2.13.0 in /home/ubuntu/.local/lib/python3.10/site-packages (from rich<15.0,>=12.3.0->lightning<2.1,>=2.0.0->autogluon.multimodal==1.0.0->autogluon) (2.17.2)\n",
      "Requirement already satisfied: spacy-legacy<3.1.0,>=3.0.11 in /home/ubuntu/.local/lib/python3.10/site-packages (from spacy<4->fastai<2.8,>=2.3.1->autogluon.tabular[all]==1.0.0->autogluon) (3.0.12)\n",
      "Requirement already satisfied: spacy-loggers<2.0.0,>=1.0.0 in /home/ubuntu/.local/lib/python3.10/site-packages (from spacy<4->fastai<2.8,>=2.3.1->autogluon.tabular[all]==1.0.0->autogluon) (1.0.5)\n",
      "Requirement already satisfied: murmurhash<1.1.0,>=0.28.0 in /home/ubuntu/.local/lib/python3.10/site-packages (from spacy<4->fastai<2.8,>=2.3.1->autogluon.tabular[all]==1.0.0->autogluon) (1.0.10)\n",
      "Requirement already satisfied: cymem<2.1.0,>=2.0.2 in /home/ubuntu/.local/lib/python3.10/site-packages (from spacy<4->fastai<2.8,>=2.3.1->autogluon.tabular[all]==1.0.0->autogluon) (2.0.8)\n",
      "Requirement already satisfied: preshed<3.1.0,>=3.0.2 in /home/ubuntu/.local/lib/python3.10/site-packages (from spacy<4->fastai<2.8,>=2.3.1->autogluon.tabular[all]==1.0.0->autogluon) (3.0.9)\n",
      "Requirement already satisfied: thinc<8.3.0,>=8.2.2 in /home/ubuntu/.local/lib/python3.10/site-packages (from spacy<4->fastai<2.8,>=2.3.1->autogluon.tabular[all]==1.0.0->autogluon) (8.2.3)\n",
      "Requirement already satisfied: wasabi<1.2.0,>=0.9.1 in /home/ubuntu/.local/lib/python3.10/site-packages (from spacy<4->fastai<2.8,>=2.3.1->autogluon.tabular[all]==1.0.0->autogluon) (1.1.2)\n",
      "Requirement already satisfied: srsly<3.0.0,>=2.4.3 in /home/ubuntu/.local/lib/python3.10/site-packages (from spacy<4->fastai<2.8,>=2.3.1->autogluon.tabular[all]==1.0.0->autogluon) (2.4.8)\n",
      "Requirement already satisfied: catalogue<2.1.0,>=2.0.6 in /home/ubuntu/.local/lib/python3.10/site-packages (from spacy<4->fastai<2.8,>=2.3.1->autogluon.tabular[all]==1.0.0->autogluon) (2.0.10)\n",
      "Requirement already satisfied: weasel<0.4.0,>=0.1.0 in /home/ubuntu/.local/lib/python3.10/site-packages (from spacy<4->fastai<2.8,>=2.3.1->autogluon.tabular[all]==1.0.0->autogluon) (0.3.4)\n",
      "Requirement already satisfied: typer<0.10.0,>=0.3.0 in /home/ubuntu/.local/lib/python3.10/site-packages (from spacy<4->fastai<2.8,>=2.3.1->autogluon.tabular[all]==1.0.0->autogluon) (0.9.4)\n",
      "Requirement already satisfied: langcodes<4.0.0,>=3.2.0 in /home/ubuntu/.local/lib/python3.10/site-packages (from spacy<4->fastai<2.8,>=2.3.1->autogluon.tabular[all]==1.0.0->autogluon) (3.3.0)\n",
      "Requirement already satisfied: anyio<5,>=3.4.0 in /home/ubuntu/.local/lib/python3.10/site-packages (from starlette->lightning<2.1,>=2.0.0->autogluon.multimodal==1.0.0->autogluon) (4.1.0)\n",
      "Requirement already satisfied: itsdangerous<3.0.0,>=2.0.1 in /home/ubuntu/.local/lib/python3.10/site-packages (from starsessions<2.0,>=1.2.1->lightning<2.1,>=2.0.0->autogluon.multimodal==1.0.0->autogluon) (2.1.2)\n",
      "Requirement already satisfied: h11>=0.8 in /home/ubuntu/.local/lib/python3.10/site-packages (from uvicorn<2.0->lightning<2.1,>=2.0.0->autogluon.multimodal==1.0.0->autogluon) (0.14.0)\n",
      "Requirement already satisfied: distlib<1,>=0.3.1 in /usr/lib/python3/dist-packages (from virtualenv<20.21.1,>=20.0.24->ray[default,tune]<2.7,>=2.6.3; extra == \"all\"->autogluon.core[all]==1.0.0->autogluon) (0.3.4)\n",
      "Requirement already satisfied: platformdirs<3,>=2 in /usr/lib/python3/dist-packages (from virtualenv<20.21.1,>=20.0.24->ray[default,tune]<2.7,>=2.6.3; extra == \"all\"->autogluon.core[all]==1.0.0->autogluon) (2.5.1)\n",
      "Requirement already satisfied: markdown in /usr/lib/python3/dist-packages (from model-index->openmim<0.4.0,>=0.3.7->autogluon.multimodal==1.0.0->autogluon) (3.3.6)\n",
      "Requirement already satisfied: opencensus-context>=0.1.3 in /home/ubuntu/.local/lib/python3.10/site-packages (from opencensus->ray[default,tune]<2.7,>=2.6.3; extra == \"all\"->autogluon.core[all]==1.0.0->autogluon) (0.1.3)\n",
      "Requirement already satisfied: google-api-core<3.0.0,>=1.0.0 in /home/ubuntu/.local/lib/python3.10/site-packages (from opencensus->ray[default,tune]<2.7,>=2.6.3; extra == \"all\"->autogluon.core[all]==1.0.0->autogluon) (2.18.0)\n",
      "Requirement already satisfied: pycryptodome in /home/ubuntu/.local/lib/python3.10/site-packages (from opendatalab->openmim<0.4.0,>=0.3.7->autogluon.multimodal==1.0.0->autogluon) (3.20.0)\n",
      "Requirement already satisfied: openxlab in /home/ubuntu/.local/lib/python3.10/site-packages (from opendatalab->openmim<0.4.0,>=0.3.7->autogluon.multimodal==1.0.0->autogluon) (0.0.38)\n",
      "Requirement already satisfied: tenacity>=6.2.0 in /home/ubuntu/.local/lib/python3.10/site-packages (from plotly->catboost<1.3,>=1.1->autogluon.tabular[all]==1.0.0->autogluon) (8.2.3)\n",
      "Requirement already satisfied: sniffio>=1.1 in /home/ubuntu/.local/lib/python3.10/site-packages (from anyio<5,>=3.4.0->starlette->lightning<2.1,>=2.0.0->autogluon.multimodal==1.0.0->autogluon) (1.3.0)\n",
      "Requirement already satisfied: exceptiongroup>=1.0.2 in /home/ubuntu/.local/lib/python3.10/site-packages (from anyio<5,>=3.4.0->starlette->lightning<2.1,>=2.0.0->autogluon.multimodal==1.0.0->autogluon) (1.2.0)\n",
      "Requirement already satisfied: wcwidth>=0.1.4 in /usr/lib/python3/dist-packages (from blessed>=1.17.1->gpustat>=1.0.0->ray[default,tune]<2.7,>=2.6.3; extra == \"all\"->autogluon.core[all]==1.0.0->autogluon) (0.2.5)\n",
      "Requirement already satisfied: runs in /home/ubuntu/.local/lib/python3.10/site-packages (from editor>=1.6.0->inquirer<5.0,>=2.10.0->lightning<2.1,>=2.0.0->autogluon.multimodal==1.0.0->autogluon) (1.2.2)\n",
      "Requirement already satisfied: xmod in /home/ubuntu/.local/lib/python3.10/site-packages (from editor>=1.6.0->inquirer<5.0,>=2.10.0->lightning<2.1,>=2.0.0->autogluon.multimodal==1.0.0->autogluon) (1.8.1)\n",
      "Requirement already satisfied: googleapis-common-protos<2.0.dev0,>=1.56.2 in /home/ubuntu/.local/lib/python3.10/site-packages (from google-api-core<3.0.0,>=1.0.0->opencensus->ray[default,tune]<2.7,>=2.6.3; extra == \"all\"->autogluon.core[all]==1.0.0->autogluon) (1.63.0)\n",
      "Requirement already satisfied: proto-plus<2.0.0dev,>=1.22.3 in /home/ubuntu/.local/lib/python3.10/site-packages (from google-api-core<3.0.0,>=1.0.0->opencensus->ray[default,tune]<2.7,>=2.6.3; extra == \"all\"->autogluon.core[all]==1.0.0->autogluon) (1.23.0)\n",
      "Requirement already satisfied: google-auth<3.0.dev0,>=2.14.1 in /home/ubuntu/.local/lib/python3.10/site-packages (from google-api-core<3.0.0,>=1.0.0->opencensus->ray[default,tune]<2.7,>=2.6.3; extra == \"all\"->autogluon.core[all]==1.0.0->autogluon) (2.29.0)\n",
      "Requirement already satisfied: mdurl~=0.1 in /home/ubuntu/.local/lib/python3.10/site-packages (from markdown-it-py>=2.2.0->rich<15.0,>=12.3.0->lightning<2.1,>=2.0.0->autogluon.multimodal==1.0.0->autogluon) (0.1.2)\n",
      "Requirement already satisfied: blis<0.8.0,>=0.7.8 in /home/ubuntu/.local/lib/python3.10/site-packages (from thinc<8.3.0,>=8.2.2->spacy<4->fastai<2.8,>=2.3.1->autogluon.tabular[all]==1.0.0->autogluon) (0.7.11)\n",
      "Requirement already satisfied: confection<1.0.0,>=0.0.1 in /home/ubuntu/.local/lib/python3.10/site-packages (from thinc<8.3.0,>=8.2.2->spacy<4->fastai<2.8,>=2.3.1->autogluon.tabular[all]==1.0.0->autogluon) (0.1.4)\n",
      "Requirement already satisfied: cloudpathlib<0.17.0,>=0.7.0 in /home/ubuntu/.local/lib/python3.10/site-packages (from weasel<0.4.0,>=0.1.0->spacy<4->fastai<2.8,>=2.3.1->autogluon.tabular[all]==1.0.0->autogluon) (0.16.0)\n",
      "Requirement already satisfied: oss2~=2.17.0 in /home/ubuntu/.local/lib/python3.10/site-packages (from openxlab->opendatalab->openmim<0.4.0,>=0.3.7->autogluon.multimodal==1.0.0->autogluon) (2.17.0)\n",
      "Requirement already satisfied: PySocks!=1.5.7,>=1.5.6 in /home/ubuntu/.local/lib/python3.10/site-packages (from requests[socks]->gdown>=4.0.0->nlpaug<1.2.0,>=1.1.10->autogluon.multimodal==1.0.0->autogluon) (1.7.1)\n",
      "Requirement already satisfied: cachetools<6.0,>=2.0.0 in /usr/lib/python3/dist-packages (from google-auth<3.0.dev0,>=2.14.1->google-api-core<3.0.0,>=1.0.0->opencensus->ray[default,tune]<2.7,>=2.6.3; extra == \"all\"->autogluon.core[all]==1.0.0->autogluon) (5.0.0)\n",
      "Requirement already satisfied: pyasn1-modules>=0.2.1 in /usr/lib/python3/dist-packages (from google-auth<3.0.dev0,>=2.14.1->google-api-core<3.0.0,>=1.0.0->opencensus->ray[default,tune]<2.7,>=2.6.3; extra == \"all\"->autogluon.core[all]==1.0.0->autogluon) (0.2.1)\n",
      "Requirement already satisfied: rsa<5,>=3.1.4 in /usr/lib/python3/dist-packages (from google-auth<3.0.dev0,>=2.14.1->google-api-core<3.0.0,>=1.0.0->opencensus->ray[default,tune]<2.7,>=2.6.3; extra == \"all\"->autogluon.core[all]==1.0.0->autogluon) (4.8)\n",
      "Requirement already satisfied: aliyun-python-sdk-core>=2.13.12 in /home/ubuntu/.local/lib/python3.10/site-packages (from oss2~=2.17.0->openxlab->opendatalab->openmim<0.4.0,>=0.3.7->autogluon.multimodal==1.0.0->autogluon) (2.15.1)\n",
      "Requirement already satisfied: aliyun-python-sdk-kms>=2.4.1 in /home/ubuntu/.local/lib/python3.10/site-packages (from oss2~=2.17.0->openxlab->opendatalab->openmim<0.4.0,>=0.3.7->autogluon.multimodal==1.0.0->autogluon) (2.16.2)\n",
      "Requirement already satisfied: crcmod>=1.7 in /home/ubuntu/.local/lib/python3.10/site-packages (from oss2~=2.17.0->openxlab->opendatalab->openmim<0.4.0,>=0.3.7->autogluon.multimodal==1.0.0->autogluon) (1.7)\n",
      "Requirement already satisfied: cryptography>=2.6.0 in /usr/lib/python3/dist-packages (from aliyun-python-sdk-core>=2.13.12->oss2~=2.17.0->openxlab->opendatalab->openmim<0.4.0,>=0.3.7->autogluon.multimodal==1.0.0->autogluon) (3.4.8)\n",
      "\u001b[33mDEPRECATION: flatbuffers 1.12.1-git20200711.33e2d80-dfsg1-0.6 has a non-standard version number. pip 24.0 will enforce this behaviour change. A possible replacement is to upgrade to a newer version of flatbuffers or contact the author to suggest that they release a version with a conforming version number. Discussion can be found at https://github.com/pypa/pip/issues/12063\u001b[0m\u001b[33m\n",
      "\u001b[0m\n",
      "\u001b[1m[\u001b[0m\u001b[34;49mnotice\u001b[0m\u001b[1;39;49m]\u001b[0m\u001b[39;49m A new release of pip is available: \u001b[0m\u001b[31;49m23.3.1\u001b[0m\u001b[39;49m -> \u001b[0m\u001b[32;49m24.0\u001b[0m\n",
      "\u001b[1m[\u001b[0m\u001b[34;49mnotice\u001b[0m\u001b[1;39;49m]\u001b[0m\u001b[39;49m To update, run: \u001b[0m\u001b[32;49mpython3 -m pip install --upgrade pip\u001b[0m\n"
     ]
    },
    {
     "name": "stderr",
     "output_type": "stream",
     "text": [
      "Loaded data from: data/train.csv | Columns = 3 / 3 | Rows = 17307 -> 17307\n",
      "Loaded data from: data/test.csv | Columns = 2 / 2 | Rows = 3 -> 3\n"
     ]
    }
   ],
   "source": [
    "!sudo apt update\n",
    "!sudo apt install default-jre -y\n",
    "!pip install autogluon language_tool_python\n",
    "import pandas as pd\n",
    "import matplotlib.pyplot as plt\n",
    "import seaborn as sns\n",
    "from autogluon.tabular import TabularDataset, TabularPredictor\n",
    "from autogluon.multimodal import MultiModalPredictor\n",
    "from language_tool_python import LanguageTool\n",
    "import concurrent.futures\n",
    "\n",
    "train_data = TabularDataset('data/train.csv')\n",
    "test_data = TabularDataset('data/test.csv')"
   ]
  },
  {
   "cell_type": "code",
   "execution_count": null,
   "id": "46f2c76c-df6d-4fe0-8d75-d9fb80eaa771",
   "metadata": {},
   "outputs": [],
   "source": [
    "train_data['word_length'] = train_data['full_text'].apply(lambda x: len(x.split()))\n",
    "\n",
    "plt.figure(figsize=(10, 6))\n",
    "sns.regplot(data=train_data, x='word_length', y='score', scatter_kws={'alpha':0.5})\n",
    "plt.title('Seaborn Regression Plot of Full Text Word Length vs. Score')\n",
    "plt.xlabel('Word Length')\n",
    "plt.ylabel('Score')\n",
    "plt.grid(True)\n",
    "plt.show()"
   ]
  },
  {
   "cell_type": "code",
   "execution_count": null,
   "id": "bb7732fa-a3ea-4a00-ae88-7e358757a09f",
   "metadata": {},
   "outputs": [],
   "source": [
    "lt = LanguageTool('en-US')\n",
    "\n",
    "def count_grammar_errors(text):\n",
    "    matches = lt.check(text)\n",
    "    return len(matches)\n",
    "\n",
    "def apply_parallel(df, func):\n",
    "    with concurrent.futures.ThreadPoolExecutor() as executor:\n",
    "        results = list(executor.map(func, df['full_text']))\n",
    "    return results\n",
    "\n",
    "train_data['grammar_errors'] = apply_parallel(train_data, count_grammar_errors)\n",
    "\n",
    "plt.figure(figsize=(10, 6))\n",
    "sns.regplot(data=train_data, x='grammar_errors', y='score', scatter_kws={'alpha':0.5})\n",
    "plt.title('Seaborn Regression Plot of Grammar Errors vs. Score')\n",
    "plt.xlabel('Number of Grammar Errors')\n",
    "plt.ylabel('Score')\n",
    "plt.grid(True)\n",
    "plt.show()"
   ]
  },
  {
   "cell_type": "code",
   "execution_count": 35,
   "id": "32723f54-3454-43f8-a3e7-c1386862480d",
   "metadata": {},
   "outputs": [],
   "source": [
    "# lt = LanguageTool('en-US')\n",
    "\n",
    "# def count_grammar_errors(text):\n",
    "#     matches = lt.check(text)\n",
    "#     error_dict = {}\n",
    "#     for match in matches:\n",
    "#         error_type = match.ruleId\n",
    "#         if error_type in error_dict:\n",
    "#             error_dict[error_type] += 1\n",
    "#         else:\n",
    "#             error_dict[error_type] = 1\n",
    "#     return error_dict\n",
    "\n",
    "# def apply_parallel(df, func):\n",
    "#     with concurrent.futures.ThreadPoolExecutor() as executor:\n",
    "#         results = list(executor.map(func, df['full_text']))\n",
    "#     return results\n",
    "\n",
    "# error_list = apply_parallel(train_data, count_grammar_errors)\n",
    "\n",
    "# errors_df = pd.DataFrame(error_list)\n",
    "# errors_df.fillna(0, inplace=True)\n",
    "# train_data = pd.concat([train_data, errors_df], axis=1)"
   ]
  },
  {
   "cell_type": "code",
   "execution_count": null,
   "id": "62ae07cd-97df-47bb-b42e-fa072c1ea688",
   "metadata": {},
   "outputs": [
    {
     "name": "stderr",
     "output_type": "stream",
     "text": [
      "No path specified. Models will be saved in: \"AutogluonModels/ag-20240415_222206\"\n",
      "=================== System Info ===================\n",
      "AutoGluon Version:  1.0.0\n",
      "Python Version:     3.10.12\n",
      "Operating System:   Linux\n",
      "Platform Machine:   x86_64\n",
      "Platform Version:   #38~22.04.1-Ubuntu SMP PREEMPT_DYNAMIC Thu Nov  2 18:01:13 UTC 2\n",
      "CPU Count:          30\n",
      "Pytorch Version:    2.0.1\n",
      "CUDA Version:       12.2\n",
      "Memory Avail:       180.17 GB / 196.56 GB (91.7%)\n",
      "Disk Space Avail:   8589934580.21 GB / 8589934592.00 GB (100.0%)\n",
      "===================================================\n",
      "AutoGluon infers your prediction problem is: 'multiclass' (because dtype of label-column == int, but few unique label-values observed).\n",
      "\t6 unique label values:  [3, 4, 2, 1, 5, 6]\n",
      "\tIf 'multiclass' is not the correct problem_type, please manually specify the problem_type parameter during predictor init (You may specify problem_type as one of: ['binary', 'multiclass', 'regression'])\n",
      "\n",
      "AutoMM starts to create your model. ✨✨✨\n",
      "\n",
      "To track the learning progress, you can open a terminal and launch Tensorboard:\n",
      "    ```shell\n",
      "    # Assume you have installed tensorboard\n",
      "    tensorboard --logdir /home/ubuntu/fs/AutogluonModels/ag-20240415_222206\n",
      "    ```\n",
      "\n",
      "Global seed set to 0\n",
      "GPU Count: 1\n",
      "GPU Count to be Used: 1\n",
      "GPU 0 Name: NVIDIA A10\n",
      "GPU 0 Memory: 9.57GB/22.49GB (Used/Total)\n",
      "\n",
      "Using 16bit Automatic Mixed Precision (AMP)\n",
      "GPU available: True (cuda), used: True\n",
      "TPU available: False, using: 0 TPU cores\n",
      "IPU available: False, using: 0 IPUs\n",
      "HPU available: False, using: 0 HPUs\n",
      "LOCAL_RANK: 0 - CUDA_VISIBLE_DEVICES: [0]\n",
      "\n",
      "  | Name              | Type                         | Params\n",
      "-------------------------------------------------------------------\n",
      "0 | model             | HFAutoModelForTextPrediction | 108 M \n",
      "1 | validation_metric | MulticlassCohenKappa         | 0     \n",
      "2 | loss_func         | CrossEntropyLoss             | 0     \n",
      "-------------------------------------------------------------------\n",
      "108 M     Trainable params\n",
      "0         Non-trainable params\n",
      "108 M     Total params\n",
      "435.585   Total estimated model params size (MB)\n"
     ]
    },
    {
     "data": {
      "application/vnd.jupyter.widget-view+json": {
       "model_id": "dd5974e5a709412ab08b50cb5e4238d4",
       "version_major": 2,
       "version_minor": 0
      },
      "text/plain": [
       "Sanity Checking: 0it [00:00, ?it/s]"
      ]
     },
     "metadata": {},
     "output_type": "display_data"
    },
    {
     "data": {
      "application/vnd.jupyter.widget-view+json": {
       "model_id": "0a9823d50cae416e8ef34e649510a013",
       "version_major": 2,
       "version_minor": 0
      },
      "text/plain": [
       "Training: 0it [00:00, ?it/s]"
      ]
     },
     "metadata": {},
     "output_type": "display_data"
    },
    {
     "data": {
      "application/vnd.jupyter.widget-view+json": {
       "model_id": "4c5f746cad4c423184c18d73b5a9c7fc",
       "version_major": 2,
       "version_minor": 0
      },
      "text/plain": [
       "Validation: 0it [00:00, ?it/s]"
      ]
     },
     "metadata": {},
     "output_type": "display_data"
    },
    {
     "name": "stderr",
     "output_type": "stream",
     "text": [
      "Epoch 0, global step 60: 'val_quadratic_kappa' reached 0.70543 (best 0.70543), saving model to '/home/ubuntu/fs/AutogluonModels/ag-20240415_222206/epoch=0-step=60.ckpt' as top 3\n"
     ]
    },
    {
     "data": {
      "application/vnd.jupyter.widget-view+json": {
       "model_id": "d3d6564105754b8cbc6a4239386a71d9",
       "version_major": 2,
       "version_minor": 0
      },
      "text/plain": [
       "Validation: 0it [00:00, ?it/s]"
      ]
     },
     "metadata": {},
     "output_type": "display_data"
    },
    {
     "name": "stderr",
     "output_type": "stream",
     "text": [
      "Epoch 0, global step 121: 'val_quadratic_kappa' reached 0.73939 (best 0.73939), saving model to '/home/ubuntu/fs/AutogluonModels/ag-20240415_222206/epoch=0-step=121.ckpt' as top 3\n"
     ]
    },
    {
     "data": {
      "application/vnd.jupyter.widget-view+json": {
       "model_id": "8c3799776789497f8fbe89fcbf7c6e52",
       "version_major": 2,
       "version_minor": 0
      },
      "text/plain": [
       "Validation: 0it [00:00, ?it/s]"
      ]
     },
     "metadata": {},
     "output_type": "display_data"
    },
    {
     "name": "stderr",
     "output_type": "stream",
     "text": [
      "Epoch 1, global step 182: 'val_quadratic_kappa' reached 0.73799 (best 0.73939), saving model to '/home/ubuntu/fs/AutogluonModels/ag-20240415_222206/epoch=1-step=182.ckpt' as top 3\n"
     ]
    },
    {
     "data": {
      "application/vnd.jupyter.widget-view+json": {
       "model_id": "6f156a87e57b44429c7f4335db35b177",
       "version_major": 2,
       "version_minor": 0
      },
      "text/plain": [
       "Validation: 0it [00:00, ?it/s]"
      ]
     },
     "metadata": {},
     "output_type": "display_data"
    },
    {
     "name": "stderr",
     "output_type": "stream",
     "text": [
      "Epoch 1, global step 243: 'val_quadratic_kappa' reached 0.79876 (best 0.79876), saving model to '/home/ubuntu/fs/AutogluonModels/ag-20240415_222206/epoch=1-step=243.ckpt' as top 3\n"
     ]
    },
    {
     "data": {
      "application/vnd.jupyter.widget-view+json": {
       "model_id": "2d1a9d117f454d428a88ad1eac1dc762",
       "version_major": 2,
       "version_minor": 0
      },
      "text/plain": [
       "Validation: 0it [00:00, ?it/s]"
      ]
     },
     "metadata": {},
     "output_type": "display_data"
    },
    {
     "name": "stderr",
     "output_type": "stream",
     "text": [
      "Epoch 2, global step 304: 'val_quadratic_kappa' reached 0.78610 (best 0.79876), saving model to '/home/ubuntu/fs/AutogluonModels/ag-20240415_222206/epoch=2-step=304.ckpt' as top 3\n"
     ]
    },
    {
     "data": {
      "application/vnd.jupyter.widget-view+json": {
       "model_id": "3eadf530dd3d46e2993d87ec5415f7a5",
       "version_major": 2,
       "version_minor": 0
      },
      "text/plain": [
       "Validation: 0it [00:00, ?it/s]"
      ]
     },
     "metadata": {},
     "output_type": "display_data"
    },
    {
     "name": "stderr",
     "output_type": "stream",
     "text": [
      "Epoch 2, global step 365: 'val_quadratic_kappa' reached 0.79030 (best 0.79876), saving model to '/home/ubuntu/fs/AutogluonModels/ag-20240415_222206/epoch=2-step=365.ckpt' as top 3\n"
     ]
    },
    {
     "data": {
      "application/vnd.jupyter.widget-view+json": {
       "model_id": "82b24cb01c4b46288fc99fecf4d33bc8",
       "version_major": 2,
       "version_minor": 0
      },
      "text/plain": [
       "Validation: 0it [00:00, ?it/s]"
      ]
     },
     "metadata": {},
     "output_type": "display_data"
    },
    {
     "name": "stderr",
     "output_type": "stream",
     "text": [
      "Epoch 3, global step 426: 'val_quadratic_kappa' reached 0.79999 (best 0.79999), saving model to '/home/ubuntu/fs/AutogluonModels/ag-20240415_222206/epoch=3-step=426.ckpt' as top 3\n"
     ]
    },
    {
     "data": {
      "application/vnd.jupyter.widget-view+json": {
       "model_id": "8912cc49007a4366954edaf212fb6dde",
       "version_major": 2,
       "version_minor": 0
      },
      "text/plain": [
       "Validation: 0it [00:00, ?it/s]"
      ]
     },
     "metadata": {},
     "output_type": "display_data"
    },
    {
     "name": "stderr",
     "output_type": "stream",
     "text": [
      "Epoch 3, global step 487: 'val_quadratic_kappa' was not in top 3\n"
     ]
    },
    {
     "data": {
      "application/vnd.jupyter.widget-view+json": {
       "model_id": "5f4ddab40f3341319ad7dbee0ad1367d",
       "version_major": 2,
       "version_minor": 0
      },
      "text/plain": [
       "Validation: 0it [00:00, ?it/s]"
      ]
     },
     "metadata": {},
     "output_type": "display_data"
    },
    {
     "name": "stderr",
     "output_type": "stream",
     "text": [
      "Epoch 4, global step 548: 'val_quadratic_kappa' was not in top 3\n"
     ]
    },
    {
     "data": {
      "application/vnd.jupyter.widget-view+json": {
       "model_id": "29a0328e8b12413f807f39e6d9c15728",
       "version_major": 2,
       "version_minor": 0
      },
      "text/plain": [
       "Validation: 0it [00:00, ?it/s]"
      ]
     },
     "metadata": {},
     "output_type": "display_data"
    },
    {
     "name": "stderr",
     "output_type": "stream",
     "text": [
      "Epoch 4, global step 609: 'val_quadratic_kappa' reached 0.79886 (best 0.79999), saving model to '/home/ubuntu/fs/AutogluonModels/ag-20240415_222206/epoch=4-step=609.ckpt' as top 3\n"
     ]
    },
    {
     "data": {
      "application/vnd.jupyter.widget-view+json": {
       "model_id": "c0a951e3c10946d3a3dba11cb9157e6c",
       "version_major": 2,
       "version_minor": 0
      },
      "text/plain": [
       "Validation: 0it [00:00, ?it/s]"
      ]
     },
     "metadata": {},
     "output_type": "display_data"
    },
    {
     "name": "stderr",
     "output_type": "stream",
     "text": [
      "Epoch 5, global step 670: 'val_quadratic_kappa' was not in top 3\n"
     ]
    },
    {
     "data": {
      "application/vnd.jupyter.widget-view+json": {
       "model_id": "e0b4e5987c644dcd807302efe520a8db",
       "version_major": 2,
       "version_minor": 0
      },
      "text/plain": [
       "Validation: 0it [00:00, ?it/s]"
      ]
     },
     "metadata": {},
     "output_type": "display_data"
    },
    {
     "name": "stderr",
     "output_type": "stream",
     "text": [
      "Epoch 5, global step 731: 'val_quadratic_kappa' was not in top 3\n"
     ]
    },
    {
     "data": {
      "application/vnd.jupyter.widget-view+json": {
       "model_id": "b3afab6085f64e06bfa7914feac4f6f0",
       "version_major": 2,
       "version_minor": 0
      },
      "text/plain": [
       "Validation: 0it [00:00, ?it/s]"
      ]
     },
     "metadata": {},
     "output_type": "display_data"
    },
    {
     "name": "stderr",
     "output_type": "stream",
     "text": [
      "Epoch 6, global step 792: 'val_quadratic_kappa' was not in top 3\n"
     ]
    },
    {
     "data": {
      "application/vnd.jupyter.widget-view+json": {
       "model_id": "90f06e55b21745c0819c278272bf15ba",
       "version_major": 2,
       "version_minor": 0
      },
      "text/plain": [
       "Validation: 0it [00:00, ?it/s]"
      ]
     },
     "metadata": {},
     "output_type": "display_data"
    },
    {
     "name": "stderr",
     "output_type": "stream",
     "text": [
      "Epoch 6, global step 853: 'val_quadratic_kappa' was not in top 3\n"
     ]
    },
    {
     "data": {
      "application/vnd.jupyter.widget-view+json": {
       "model_id": "aba317a293854e4888853b9d0650123d",
       "version_major": 2,
       "version_minor": 0
      },
      "text/plain": [
       "Validation: 0it [00:00, ?it/s]"
      ]
     },
     "metadata": {},
     "output_type": "display_data"
    },
    {
     "name": "stderr",
     "output_type": "stream",
     "text": [
      "Epoch 7, global step 914: 'val_quadratic_kappa' was not in top 3\n"
     ]
    }
   ],
   "source": [
    "predictor = MultiModalPredictor(label='score', eval_metric='quadratic_kappa').fit(train_data=train_data[['score', 'full_text']])"
   ]
  },
  {
   "cell_type": "code",
   "execution_count": null,
   "id": "ac75a565-b27d-4999-a647-09db5ce7e35b",
   "metadata": {},
   "outputs": [],
   "source": [
    "predictor_len = MultiModalPredictor(label='score', eval_metric='quadratic_kappa').fit(train_data=train_data[['score', 'full_text', 'word_length']])"
   ]
  },
  {
   "cell_type": "code",
   "execution_count": null,
   "id": "5f7ffb04-7de5-4436-b0aa-599f2b7f61e7",
   "metadata": {},
   "outputs": [],
   "source": [
    "predictor_len_gram = MultiModalPredictor(label='score', eval_metric='quadratic_kappa').fit(train_data=train_data[['score', 'full_text', 'word_length', 'grammar_errors']])"
   ]
  },
  {
   "cell_type": "code",
   "execution_count": null,
   "id": "a71c135f-066e-46da-bb6e-d5753d8eb40d",
   "metadata": {},
   "outputs": [],
   "source": [
    "predictor_len_gram_noMM = TabularPredictor(label='score', eval_metric='quadratic_kappa').fit(train_data=train_data[['score', 'full_text', 'word_length', 'grammar_errors']])"
   ]
  }
 ],
 "metadata": {
  "kernelspec": {
   "display_name": "Python 3 (ipykernel)",
   "language": "python",
   "name": "python3"
  },
  "language_info": {
   "codemirror_mode": {
    "name": "ipython",
    "version": 3
   },
   "file_extension": ".py",
   "mimetype": "text/x-python",
   "name": "python",
   "nbconvert_exporter": "python",
   "pygments_lexer": "ipython3",
   "version": "3.10.12"
  }
 },
 "nbformat": 4,
 "nbformat_minor": 5
}
