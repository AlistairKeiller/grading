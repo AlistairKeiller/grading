{
 "cells": [
  {
   "cell_type": "code",
   "execution_count": 1,
   "id": "7973ded3-2460-4080-b1cb-5dc2cd182744",
   "metadata": {},
   "outputs": [
    {
     "name": "stdout",
     "output_type": "stream",
     "text": [
      "Get:1 https://nvidia.github.io/libnvidia-container/stable/ubuntu18.04/amd64  InRelease [1484 B]\n",
      "Hit:2 https://nvidia.github.io/nvidia-container-runtime/stable/ubuntu18.04/amd64  InRelease\n",
      "Hit:3 https://packages.microsoft.com/repos/azure-cli jammy InRelease           \u001b[0m\n",
      "Hit:4 https://download.docker.com/linux/ubuntu jammy InRelease                 \u001b[0m\n",
      "Hit:5 http://archive.lambdalabs.com/ubuntu jammy InRelease                     \u001b[0m\u001b[33m\n",
      "Get:6 http://security.ubuntu.com/ubuntu jammy-security InRelease [110 kB]      \u001b[0m\u001b[33m\u001b[33m\n",
      "Hit:7 https://packages.cloud.google.com/apt cloud-sdk InRelease                \u001b[0m\u001b[33m\u001b[33m\n",
      "Hit:8 https://pkg.cloudflare.com/cloudflared jammy InRelease                   \u001b[0m\n",
      "Hit:9 http://archive.ubuntu.com/ubuntu jammy InRelease                         \u001b[0m\n",
      "Hit:10 http://ppa.launchpad.net/flexiondotorg/nvtop/ubuntu jammy InRelease     \u001b[0m\u001b[33m\u001b[33m\u001b[33m\n",
      "Get:11 http://archive.ubuntu.com/ubuntu jammy-updates InRelease [119 kB]       \u001b[0m\n",
      "Hit:12 https://ppa.launchpadcontent.net/deadsnakes/ppa/ubuntu jammy InRelease  \u001b[0m\u001b[33m\u001b[33m\n",
      "Hit:13 http://archive.ubuntu.com/ubuntu jammy-backports InRelease33m\n",
      "Fetched 231 kB in 1s (213 kB/s)\n",
      "Reading package lists... Done\n",
      "Building dependency tree... Done\n",
      "Reading state information... Done\n",
      "196 packages can be upgraded. Run 'apt list --upgradable' to see them.\n",
      "Reading package lists... Done\n",
      "Building dependency tree... Done\n",
      "Reading state information... Done\n",
      "default-jre is already the newest version (2:1.11-72build2).\n",
      "0 upgraded, 0 newly installed, 0 to remove and 196 not upgraded.\n",
      "Defaulting to user installation because normal site-packages is not writeable\n",
      "Requirement already satisfied: autogluon in /home/ubuntu/.local/lib/python3.10/site-packages (1.0.0)\n",
      "Requirement already satisfied: language_tool_python in /home/ubuntu/.local/lib/python3.10/site-packages (2.8)\n",
      "Requirement already satisfied: autogluon.core==1.0.0 in /home/ubuntu/.local/lib/python3.10/site-packages (from autogluon.core[all]==1.0.0->autogluon) (1.0.0)\n",
      "Requirement already satisfied: autogluon.features==1.0.0 in /home/ubuntu/.local/lib/python3.10/site-packages (from autogluon) (1.0.0)\n",
      "Requirement already satisfied: autogluon.tabular==1.0.0 in /home/ubuntu/.local/lib/python3.10/site-packages (from autogluon.tabular[all]==1.0.0->autogluon) (1.0.0)\n",
      "Requirement already satisfied: autogluon.multimodal==1.0.0 in /home/ubuntu/.local/lib/python3.10/site-packages (from autogluon) (1.0.0)\n",
      "Requirement already satisfied: autogluon.timeseries==1.0.0 in /home/ubuntu/.local/lib/python3.10/site-packages (from autogluon.timeseries[all]==1.0.0->autogluon) (1.0.0)\n",
      "Requirement already satisfied: numpy<1.29,>=1.21 in /home/ubuntu/.local/lib/python3.10/site-packages (from autogluon.core==1.0.0->autogluon.core[all]==1.0.0->autogluon) (1.25.2)\n",
      "Requirement already satisfied: scipy<1.13,>=1.5.4 in /usr/lib/python3/dist-packages (from autogluon.core==1.0.0->autogluon.core[all]==1.0.0->autogluon) (1.8.0)\n",
      "Requirement already satisfied: scikit-learn<1.5,>=1.3.0 in /home/ubuntu/.local/lib/python3.10/site-packages (from autogluon.core==1.0.0->autogluon.core[all]==1.0.0->autogluon) (1.4.2)\n",
      "Requirement already satisfied: networkx<4,>=3.0 in /home/ubuntu/.local/lib/python3.10/site-packages (from autogluon.core==1.0.0->autogluon.core[all]==1.0.0->autogluon) (3.3)\n",
      "Requirement already satisfied: pandas<2.2.0,>=2.0.0 in /home/ubuntu/.local/lib/python3.10/site-packages (from autogluon.core==1.0.0->autogluon.core[all]==1.0.0->autogluon) (2.1.4)\n",
      "Requirement already satisfied: tqdm<5,>=4.38 in /home/ubuntu/.local/lib/python3.10/site-packages (from autogluon.core==1.0.0->autogluon.core[all]==1.0.0->autogluon) (4.65.2)\n",
      "Requirement already satisfied: requests in /home/ubuntu/.local/lib/python3.10/site-packages (from autogluon.core==1.0.0->autogluon.core[all]==1.0.0->autogluon) (2.28.2)\n",
      "Requirement already satisfied: matplotlib in /usr/lib/python3/dist-packages (from autogluon.core==1.0.0->autogluon.core[all]==1.0.0->autogluon) (3.5.1)\n",
      "Requirement already satisfied: boto3<2,>=1.10 in /home/ubuntu/.local/lib/python3.10/site-packages (from autogluon.core==1.0.0->autogluon.core[all]==1.0.0->autogluon) (1.34.84)\n",
      "Requirement already satisfied: autogluon.common==1.0.0 in /home/ubuntu/.local/lib/python3.10/site-packages (from autogluon.core==1.0.0->autogluon.core[all]==1.0.0->autogluon) (1.0.0)\n",
      "Requirement already satisfied: ray<2.7,>=2.6.3 in /home/ubuntu/.local/lib/python3.10/site-packages (from ray[default]<2.7,>=2.6.3; extra == \"all\"->autogluon.core[all]==1.0.0->autogluon) (2.6.3)\n",
      "Requirement already satisfied: async-timeout in /home/ubuntu/.local/lib/python3.10/site-packages (from autogluon.core[all]==1.0.0->autogluon) (4.0.3)\n",
      "Requirement already satisfied: hyperopt<0.2.8,>=0.2.7 in /home/ubuntu/.local/lib/python3.10/site-packages (from autogluon.core[all]==1.0.0->autogluon) (0.2.7)\n",
      "Requirement already satisfied: Pillow<11,>=10.0.1 in /home/ubuntu/.local/lib/python3.10/site-packages (from autogluon.multimodal==1.0.0->autogluon) (10.3.0)\n",
      "Requirement already satisfied: torch<2.1,>=2.0 in /usr/lib/python3/dist-packages (from autogluon.multimodal==1.0.0->autogluon) (2.0.1)\n",
      "Requirement already satisfied: lightning<2.1,>=2.0.0 in /home/ubuntu/.local/lib/python3.10/site-packages (from autogluon.multimodal==1.0.0->autogluon) (2.0.9.post0)\n",
      "Requirement already satisfied: jsonschema<4.18,>=4.14 in /home/ubuntu/.local/lib/python3.10/site-packages (from autogluon.multimodal==1.0.0->autogluon) (4.17.3)\n",
      "Requirement already satisfied: seqeval<1.3.0,>=1.2.2 in /home/ubuntu/.local/lib/python3.10/site-packages (from autogluon.multimodal==1.0.0->autogluon) (1.2.2)\n",
      "Requirement already satisfied: evaluate<0.5.0,>=0.4.0 in /home/ubuntu/.local/lib/python3.10/site-packages (from autogluon.multimodal==1.0.0->autogluon) (0.4.1)\n",
      "Requirement already satisfied: accelerate<0.22.0,>=0.21.0 in /home/ubuntu/.local/lib/python3.10/site-packages (from autogluon.multimodal==1.0.0->autogluon) (0.21.0)\n",
      "Requirement already satisfied: transformers<4.32.0,>=4.31.0 in /home/ubuntu/.local/lib/python3.10/site-packages (from transformers[sentencepiece]<4.32.0,>=4.31.0->autogluon.multimodal==1.0.0->autogluon) (4.31.0)\n",
      "Requirement already satisfied: timm<0.10.0,>=0.9.5 in /home/ubuntu/.local/lib/python3.10/site-packages (from autogluon.multimodal==1.0.0->autogluon) (0.9.16)\n",
      "Requirement already satisfied: torchvision<0.16.0,>=0.14.0 in /usr/lib/python3/dist-packages (from autogluon.multimodal==1.0.0->autogluon) (0.15.2)\n",
      "Requirement already satisfied: scikit-image<0.21.0,>=0.19.1 in /home/ubuntu/.local/lib/python3.10/site-packages (from autogluon.multimodal==1.0.0->autogluon) (0.20.0)\n",
      "Requirement already satisfied: text-unidecode<1.4,>=1.3 in /home/ubuntu/.local/lib/python3.10/site-packages (from autogluon.multimodal==1.0.0->autogluon) (1.3)\n",
      "Requirement already satisfied: torchmetrics<1.2.0,>=1.0.0 in /home/ubuntu/.local/lib/python3.10/site-packages (from autogluon.multimodal==1.0.0->autogluon) (1.1.2)\n",
      "Requirement already satisfied: nptyping<2.5.0,>=1.4.4 in /home/ubuntu/.local/lib/python3.10/site-packages (from autogluon.multimodal==1.0.0->autogluon) (2.4.1)\n",
      "Requirement already satisfied: omegaconf<2.3.0,>=2.1.1 in /home/ubuntu/.local/lib/python3.10/site-packages (from autogluon.multimodal==1.0.0->autogluon) (2.2.3)\n",
      "Requirement already satisfied: pytorch-metric-learning<2.0,>=1.3.0 in /home/ubuntu/.local/lib/python3.10/site-packages (from autogluon.multimodal==1.0.0->autogluon) (1.7.3)\n",
      "Requirement already satisfied: nlpaug<1.2.0,>=1.1.10 in /home/ubuntu/.local/lib/python3.10/site-packages (from autogluon.multimodal==1.0.0->autogluon) (1.1.11)\n",
      "Requirement already satisfied: nltk<4.0.0,>=3.4.5 in /home/ubuntu/.local/lib/python3.10/site-packages (from autogluon.multimodal==1.0.0->autogluon) (3.8.1)\n",
      "Requirement already satisfied: openmim<0.4.0,>=0.3.7 in /home/ubuntu/.local/lib/python3.10/site-packages (from autogluon.multimodal==1.0.0->autogluon) (0.3.9)\n",
      "Requirement already satisfied: defusedxml<0.7.2,>=0.7.1 in /usr/lib/python3/dist-packages (from autogluon.multimodal==1.0.0->autogluon) (0.7.1)\n",
      "Requirement already satisfied: jinja2<3.2,>=3.0.3 in /usr/lib/python3/dist-packages (from autogluon.multimodal==1.0.0->autogluon) (3.0.3)\n",
      "Requirement already satisfied: tensorboard<3,>=2.9 in /usr/lib/python3/dist-packages (from autogluon.multimodal==1.0.0->autogluon) (2.13.0)\n",
      "Requirement already satisfied: pytesseract<0.3.11,>=0.3.9 in /home/ubuntu/.local/lib/python3.10/site-packages (from autogluon.multimodal==1.0.0->autogluon) (0.3.10)\n",
      "Requirement already satisfied: nvidia-ml-py3==7.352.0 in /usr/lib/python3/dist-packages (from autogluon.multimodal==1.0.0->autogluon) (7.352.0)\n",
      "Requirement already satisfied: xgboost<2.1,>=1.6 in /home/ubuntu/.local/lib/python3.10/site-packages (from autogluon.tabular[all]==1.0.0->autogluon) (2.0.3)\n",
      "Requirement already satisfied: fastai<2.8,>=2.3.1 in /home/ubuntu/.local/lib/python3.10/site-packages (from autogluon.tabular[all]==1.0.0->autogluon) (2.7.14)\n",
      "Requirement already satisfied: lightgbm<4.2,>=3.3 in /home/ubuntu/.local/lib/python3.10/site-packages (from autogluon.tabular[all]==1.0.0->autogluon) (4.1.0)\n",
      "Requirement already satisfied: catboost<1.3,>=1.1 in /home/ubuntu/.local/lib/python3.10/site-packages (from autogluon.tabular[all]==1.0.0->autogluon) (1.2.3)\n",
      "Requirement already satisfied: joblib<2,>=1.1 in /home/ubuntu/.local/lib/python3.10/site-packages (from autogluon.timeseries==1.0.0->autogluon.timeseries[all]==1.0.0->autogluon) (1.4.0)\n",
      "Requirement already satisfied: pytorch-lightning<2.1,>=2.0.0 in /home/ubuntu/.local/lib/python3.10/site-packages (from autogluon.timeseries==1.0.0->autogluon.timeseries[all]==1.0.0->autogluon) (2.0.9.post0)\n",
      "Requirement already satisfied: statsmodels<0.15,>=0.13.0 in /home/ubuntu/.local/lib/python3.10/site-packages (from autogluon.timeseries==1.0.0->autogluon.timeseries[all]==1.0.0->autogluon) (0.14.0)\n",
      "Requirement already satisfied: gluonts<0.15,>=0.14.0 in /home/ubuntu/.local/lib/python3.10/site-packages (from autogluon.timeseries==1.0.0->autogluon.timeseries[all]==1.0.0->autogluon) (0.14.4)\n",
      "Requirement already satisfied: statsforecast<1.5,>=1.4.0 in /home/ubuntu/.local/lib/python3.10/site-packages (from autogluon.timeseries==1.0.0->autogluon.timeseries[all]==1.0.0->autogluon) (1.4.0)\n",
      "Requirement already satisfied: mlforecast<0.10.1,>=0.10.0 in /home/ubuntu/.local/lib/python3.10/site-packages (from autogluon.timeseries==1.0.0->autogluon.timeseries[all]==1.0.0->autogluon) (0.10.0)\n",
      "Requirement already satisfied: utilsforecast<0.0.11,>=0.0.10 in /home/ubuntu/.local/lib/python3.10/site-packages (from autogluon.timeseries==1.0.0->autogluon.timeseries[all]==1.0.0->autogluon) (0.0.10)\n",
      "Requirement already satisfied: orjson~=3.9 in /home/ubuntu/.local/lib/python3.10/site-packages (from autogluon.timeseries==1.0.0->autogluon.timeseries[all]==1.0.0->autogluon) (3.10.0)\n",
      "Requirement already satisfied: psutil<6,>=5.7.3 in /usr/lib/python3/dist-packages (from autogluon.common==1.0.0->autogluon.core==1.0.0->autogluon.core[all]==1.0.0->autogluon) (5.9.0)\n",
      "Requirement already satisfied: setuptools in /home/ubuntu/.local/lib/python3.10/site-packages (from autogluon.common==1.0.0->autogluon.core==1.0.0->autogluon.core[all]==1.0.0->autogluon) (60.2.0)\n",
      "Requirement already satisfied: pip in /home/ubuntu/.local/lib/python3.10/site-packages (from language_tool_python) (23.3.1)\n",
      "Requirement already satisfied: wheel in /usr/lib/python3/dist-packages (from language_tool_python) (0.37.1)\n",
      "Requirement already satisfied: charset-normalizer<4,>=2 in /home/ubuntu/.local/lib/python3.10/site-packages (from requests->autogluon.core==1.0.0->autogluon.core[all]==1.0.0->autogluon) (3.3.2)\n",
      "Requirement already satisfied: idna<4,>=2.5 in /usr/lib/python3/dist-packages (from requests->autogluon.core==1.0.0->autogluon.core[all]==1.0.0->autogluon) (3.3)\n",
      "Requirement already satisfied: urllib3<1.27,>=1.21.1 in /usr/lib/python3/dist-packages (from requests->autogluon.core==1.0.0->autogluon.core[all]==1.0.0->autogluon) (1.26.5)\n",
      "Requirement already satisfied: certifi>=2017.4.17 in /usr/lib/python3/dist-packages (from requests->autogluon.core==1.0.0->autogluon.core[all]==1.0.0->autogluon) (2020.6.20)\n",
      "Requirement already satisfied: packaging>=20.0 in /usr/lib/python3/dist-packages (from accelerate<0.22.0,>=0.21.0->autogluon.multimodal==1.0.0->autogluon) (21.3)\n",
      "Requirement already satisfied: pyyaml in /home/ubuntu/.local/lib/python3.10/site-packages (from accelerate<0.22.0,>=0.21.0->autogluon.multimodal==1.0.0->autogluon) (6.0.1)\n",
      "Requirement already satisfied: botocore<1.35.0,>=1.34.84 in /home/ubuntu/.local/lib/python3.10/site-packages (from boto3<2,>=1.10->autogluon.core==1.0.0->autogluon.core[all]==1.0.0->autogluon) (1.34.84)\n",
      "Requirement already satisfied: jmespath<2.0.0,>=0.7.1 in /home/ubuntu/.local/lib/python3.10/site-packages (from boto3<2,>=1.10->autogluon.core==1.0.0->autogluon.core[all]==1.0.0->autogluon) (0.10.0)\n",
      "Requirement already satisfied: s3transfer<0.11.0,>=0.10.0 in /home/ubuntu/.local/lib/python3.10/site-packages (from boto3<2,>=1.10->autogluon.core==1.0.0->autogluon.core[all]==1.0.0->autogluon) (0.10.1)\n",
      "Requirement already satisfied: graphviz in /home/ubuntu/.local/lib/python3.10/site-packages (from catboost<1.3,>=1.1->autogluon.tabular[all]==1.0.0->autogluon) (0.20.3)\n",
      "Requirement already satisfied: plotly in /home/ubuntu/.local/lib/python3.10/site-packages (from catboost<1.3,>=1.1->autogluon.tabular[all]==1.0.0->autogluon) (5.20.0)\n",
      "Requirement already satisfied: six in /usr/lib/python3/dist-packages (from catboost<1.3,>=1.1->autogluon.tabular[all]==1.0.0->autogluon) (1.16.0)\n",
      "Requirement already satisfied: datasets>=2.0.0 in /home/ubuntu/.local/lib/python3.10/site-packages (from evaluate<0.5.0,>=0.4.0->autogluon.multimodal==1.0.0->autogluon) (2.18.0)\n",
      "Requirement already satisfied: dill in /home/ubuntu/.local/lib/python3.10/site-packages (from evaluate<0.5.0,>=0.4.0->autogluon.multimodal==1.0.0->autogluon) (0.3.8)\n",
      "Requirement already satisfied: xxhash in /home/ubuntu/.local/lib/python3.10/site-packages (from evaluate<0.5.0,>=0.4.0->autogluon.multimodal==1.0.0->autogluon) (3.4.1)\n",
      "Requirement already satisfied: multiprocess in /home/ubuntu/.local/lib/python3.10/site-packages (from evaluate<0.5.0,>=0.4.0->autogluon.multimodal==1.0.0->autogluon) (0.70.16)\n",
      "Requirement already satisfied: fsspec>=2021.05.0 in /home/ubuntu/.local/lib/python3.10/site-packages (from fsspec[http]>=2021.05.0->evaluate<0.5.0,>=0.4.0->autogluon.multimodal==1.0.0->autogluon) (2024.2.0)\n",
      "Requirement already satisfied: huggingface-hub>=0.7.0 in /home/ubuntu/.local/lib/python3.10/site-packages (from evaluate<0.5.0,>=0.4.0->autogluon.multimodal==1.0.0->autogluon) (0.22.2)\n",
      "Requirement already satisfied: responses<0.19 in /home/ubuntu/.local/lib/python3.10/site-packages (from evaluate<0.5.0,>=0.4.0->autogluon.multimodal==1.0.0->autogluon) (0.18.0)\n",
      "Requirement already satisfied: fastdownload<2,>=0.0.5 in /home/ubuntu/.local/lib/python3.10/site-packages (from fastai<2.8,>=2.3.1->autogluon.tabular[all]==1.0.0->autogluon) (0.0.7)\n",
      "Requirement already satisfied: fastcore<1.6,>=1.5.29 in /home/ubuntu/.local/lib/python3.10/site-packages (from fastai<2.8,>=2.3.1->autogluon.tabular[all]==1.0.0->autogluon) (1.5.29)\n",
      "Requirement already satisfied: fastprogress>=0.2.4 in /home/ubuntu/.local/lib/python3.10/site-packages (from fastai<2.8,>=2.3.1->autogluon.tabular[all]==1.0.0->autogluon) (1.0.3)\n",
      "Requirement already satisfied: spacy<4 in /home/ubuntu/.local/lib/python3.10/site-packages (from fastai<2.8,>=2.3.1->autogluon.tabular[all]==1.0.0->autogluon) (3.7.4)\n",
      "Requirement already satisfied: pydantic<3,>=1.7 in /home/ubuntu/.local/lib/python3.10/site-packages (from gluonts<0.15,>=0.14.0->autogluon.timeseries==1.0.0->autogluon.timeseries[all]==1.0.0->autogluon) (1.10.15)\n",
      "Requirement already satisfied: toolz~=0.10 in /home/ubuntu/.local/lib/python3.10/site-packages (from gluonts<0.15,>=0.14.0->autogluon.timeseries==1.0.0->autogluon.timeseries[all]==1.0.0->autogluon) (0.12.1)\n",
      "Requirement already satisfied: typing-extensions~=4.0 in /home/ubuntu/.local/lib/python3.10/site-packages (from gluonts<0.15,>=0.14.0->autogluon.timeseries==1.0.0->autogluon.timeseries[all]==1.0.0->autogluon) (4.8.0)\n",
      "Requirement already satisfied: future in /usr/lib/python3/dist-packages (from hyperopt<0.2.8,>=0.2.7->autogluon.core[all]==1.0.0->autogluon) (0.18.2)\n",
      "Requirement already satisfied: cloudpickle in /home/ubuntu/.local/lib/python3.10/site-packages (from hyperopt<0.2.8,>=0.2.7->autogluon.core[all]==1.0.0->autogluon) (3.0.0)\n",
      "Requirement already satisfied: py4j in /home/ubuntu/.local/lib/python3.10/site-packages (from hyperopt<0.2.8,>=0.2.7->autogluon.core[all]==1.0.0->autogluon) (0.10.9.7)\n",
      "Requirement already satisfied: attrs>=17.4.0 in /home/ubuntu/.local/lib/python3.10/site-packages (from jsonschema<4.18,>=4.14->autogluon.multimodal==1.0.0->autogluon) (23.1.0)\n",
      "Requirement already satisfied: pyrsistent!=0.17.0,!=0.17.1,!=0.17.2,>=0.14.0 in /usr/lib/python3/dist-packages (from jsonschema<4.18,>=4.14->autogluon.multimodal==1.0.0->autogluon) (0.18.1)\n",
      "Requirement already satisfied: arrow<3.0,>=1.2.0 in /home/ubuntu/.local/lib/python3.10/site-packages (from lightning<2.1,>=2.0.0->autogluon.multimodal==1.0.0->autogluon) (1.3.0)\n",
      "Requirement already satisfied: backoff<4.0,>=2.2.1 in /home/ubuntu/.local/lib/python3.10/site-packages (from lightning<2.1,>=2.0.0->autogluon.multimodal==1.0.0->autogluon) (2.2.1)\n",
      "Requirement already satisfied: beautifulsoup4<6.0,>=4.8.0 in /usr/lib/python3/dist-packages (from lightning<2.1,>=2.0.0->autogluon.multimodal==1.0.0->autogluon) (4.10.0)\n",
      "Requirement already satisfied: click<10.0 in /usr/lib/python3/dist-packages (from lightning<2.1,>=2.0.0->autogluon.multimodal==1.0.0->autogluon) (8.0.3)\n",
      "Requirement already satisfied: croniter<1.5.0,>=1.3.0 in /home/ubuntu/.local/lib/python3.10/site-packages (from lightning<2.1,>=2.0.0->autogluon.multimodal==1.0.0->autogluon) (1.4.1)\n",
      "Requirement already satisfied: dateutils<2.0 in /home/ubuntu/.local/lib/python3.10/site-packages (from lightning<2.1,>=2.0.0->autogluon.multimodal==1.0.0->autogluon) (0.6.12)\n",
      "Requirement already satisfied: deepdiff<8.0,>=5.7.0 in /home/ubuntu/.local/lib/python3.10/site-packages (from lightning<2.1,>=2.0.0->autogluon.multimodal==1.0.0->autogluon) (7.0.1)\n",
      "Requirement already satisfied: fastapi<2.0,>=0.92.0 in /home/ubuntu/.local/lib/python3.10/site-packages (from lightning<2.1,>=2.0.0->autogluon.multimodal==1.0.0->autogluon) (0.110.1)\n",
      "Requirement already satisfied: inquirer<5.0,>=2.10.0 in /home/ubuntu/.local/lib/python3.10/site-packages (from lightning<2.1,>=2.0.0->autogluon.multimodal==1.0.0->autogluon) (3.2.4)\n",
      "Requirement already satisfied: lightning-cloud>=0.5.38 in /home/ubuntu/.local/lib/python3.10/site-packages (from lightning<2.1,>=2.0.0->autogluon.multimodal==1.0.0->autogluon) (0.5.65)\n",
      "Requirement already satisfied: lightning-utilities<2.0,>=0.7.0 in /home/ubuntu/.local/lib/python3.10/site-packages (from lightning<2.1,>=2.0.0->autogluon.multimodal==1.0.0->autogluon) (0.11.2)\n",
      "Requirement already satisfied: python-multipart<2.0,>=0.0.5 in /home/ubuntu/.local/lib/python3.10/site-packages (from lightning<2.1,>=2.0.0->autogluon.multimodal==1.0.0->autogluon) (0.0.9)\n",
      "Requirement already satisfied: rich<15.0,>=12.3.0 in /home/ubuntu/.local/lib/python3.10/site-packages (from lightning<2.1,>=2.0.0->autogluon.multimodal==1.0.0->autogluon) (13.4.2)\n",
      "Requirement already satisfied: starlette in /home/ubuntu/.local/lib/python3.10/site-packages (from lightning<2.1,>=2.0.0->autogluon.multimodal==1.0.0->autogluon) (0.37.2)\n",
      "Requirement already satisfied: starsessions<2.0,>=1.2.1 in /home/ubuntu/.local/lib/python3.10/site-packages (from lightning<2.1,>=2.0.0->autogluon.multimodal==1.0.0->autogluon) (1.3.0)\n",
      "Requirement already satisfied: traitlets<7.0,>=5.3.0 in /home/ubuntu/.local/lib/python3.10/site-packages (from lightning<2.1,>=2.0.0->autogluon.multimodal==1.0.0->autogluon) (5.14.0)\n",
      "Requirement already satisfied: uvicorn<2.0 in /home/ubuntu/.local/lib/python3.10/site-packages (from lightning<2.1,>=2.0.0->autogluon.multimodal==1.0.0->autogluon) (0.29.0)\n",
      "Requirement already satisfied: websocket-client<3.0 in /usr/lib/python3/dist-packages (from lightning<2.1,>=2.0.0->autogluon.multimodal==1.0.0->autogluon) (1.2.3)\n",
      "Requirement already satisfied: websockets<13.0 in /home/ubuntu/.local/lib/python3.10/site-packages (from lightning<2.1,>=2.0.0->autogluon.multimodal==1.0.0->autogluon) (12.0)\n",
      "Requirement already satisfied: numba in /home/ubuntu/.local/lib/python3.10/site-packages (from mlforecast<0.10.1,>=0.10.0->autogluon.timeseries==1.0.0->autogluon.timeseries[all]==1.0.0->autogluon) (0.58.1)\n",
      "Requirement already satisfied: window-ops in /home/ubuntu/.local/lib/python3.10/site-packages (from mlforecast<0.10.1,>=0.10.0->autogluon.timeseries==1.0.0->autogluon.timeseries[all]==1.0.0->autogluon) (0.0.15)\n",
      "Requirement already satisfied: gdown>=4.0.0 in /home/ubuntu/.local/lib/python3.10/site-packages (from nlpaug<1.2.0,>=1.1.10->autogluon.multimodal==1.0.0->autogluon) (5.1.0)\n",
      "Requirement already satisfied: regex>=2021.8.3 in /home/ubuntu/.local/lib/python3.10/site-packages (from nltk<4.0.0,>=3.4.5->autogluon.multimodal==1.0.0->autogluon) (2023.12.25)\n",
      "Requirement already satisfied: antlr4-python3-runtime==4.9.* in /home/ubuntu/.local/lib/python3.10/site-packages (from omegaconf<2.3.0,>=2.1.1->autogluon.multimodal==1.0.0->autogluon) (4.9.3)\n",
      "Requirement already satisfied: colorama in /usr/lib/python3/dist-packages (from openmim<0.4.0,>=0.3.7->autogluon.multimodal==1.0.0->autogluon) (0.4.4)\n",
      "Requirement already satisfied: model-index in /home/ubuntu/.local/lib/python3.10/site-packages (from openmim<0.4.0,>=0.3.7->autogluon.multimodal==1.0.0->autogluon) (0.1.11)\n",
      "Requirement already satisfied: opendatalab in /home/ubuntu/.local/lib/python3.10/site-packages (from openmim<0.4.0,>=0.3.7->autogluon.multimodal==1.0.0->autogluon) (0.0.10)\n",
      "Requirement already satisfied: tabulate in /home/ubuntu/.local/lib/python3.10/site-packages (from openmim<0.4.0,>=0.3.7->autogluon.multimodal==1.0.0->autogluon) (0.9.0)\n",
      "Requirement already satisfied: python-dateutil>=2.8.2 in /home/ubuntu/.local/lib/python3.10/site-packages (from pandas<2.2.0,>=2.0.0->autogluon.core==1.0.0->autogluon.core[all]==1.0.0->autogluon) (2.8.2)\n",
      "Requirement already satisfied: pytz>=2020.1 in /home/ubuntu/.local/lib/python3.10/site-packages (from pandas<2.2.0,>=2.0.0->autogluon.core==1.0.0->autogluon.core[all]==1.0.0->autogluon) (2023.4)\n",
      "Requirement already satisfied: tzdata>=2022.1 in /home/ubuntu/.local/lib/python3.10/site-packages (from pandas<2.2.0,>=2.0.0->autogluon.core==1.0.0->autogluon.core[all]==1.0.0->autogluon) (2024.1)\n",
      "Requirement already satisfied: filelock in /usr/lib/python3/dist-packages (from ray<2.7,>=2.6.3->ray[default]<2.7,>=2.6.3; extra == \"all\"->autogluon.core[all]==1.0.0->autogluon) (3.6.0)\n",
      "Requirement already satisfied: msgpack<2.0.0,>=1.0.0 in /usr/lib/python3/dist-packages (from ray<2.7,>=2.6.3->ray[default]<2.7,>=2.6.3; extra == \"all\"->autogluon.core[all]==1.0.0->autogluon) (1.0.3)\n",
      "Requirement already satisfied: protobuf!=3.19.5,>=3.15.3 in /usr/lib/python3/dist-packages (from ray<2.7,>=2.6.3->ray[default]<2.7,>=2.6.3; extra == \"all\"->autogluon.core[all]==1.0.0->autogluon) (4.21.12)\n",
      "Requirement already satisfied: aiosignal in /home/ubuntu/.local/lib/python3.10/site-packages (from ray<2.7,>=2.6.3->ray[default]<2.7,>=2.6.3; extra == \"all\"->autogluon.core[all]==1.0.0->autogluon) (1.3.1)\n",
      "Requirement already satisfied: frozenlist in /home/ubuntu/.local/lib/python3.10/site-packages (from ray<2.7,>=2.6.3->ray[default]<2.7,>=2.6.3; extra == \"all\"->autogluon.core[all]==1.0.0->autogluon) (1.4.1)\n",
      "Requirement already satisfied: grpcio>=1.42.0 in /home/ubuntu/.local/lib/python3.10/site-packages (from ray<2.7,>=2.6.3->ray[default]<2.7,>=2.6.3; extra == \"all\"->autogluon.core[all]==1.0.0->autogluon) (1.62.1)\n",
      "Requirement already satisfied: aiohttp>=3.7 in /home/ubuntu/.local/lib/python3.10/site-packages (from ray[default,tune]<2.7,>=2.6.3; extra == \"all\"->autogluon.core[all]==1.0.0->autogluon) (3.9.4)\n",
      "Requirement already satisfied: aiohttp-cors in /home/ubuntu/.local/lib/python3.10/site-packages (from ray[default,tune]<2.7,>=2.6.3; extra == \"all\"->autogluon.core[all]==1.0.0->autogluon) (0.7.0)\n",
      "Requirement already satisfied: colorful in /home/ubuntu/.local/lib/python3.10/site-packages (from ray[default,tune]<2.7,>=2.6.3; extra == \"all\"->autogluon.core[all]==1.0.0->autogluon) (0.5.6)\n",
      "Requirement already satisfied: py-spy>=0.2.0 in /home/ubuntu/.local/lib/python3.10/site-packages (from ray[default,tune]<2.7,>=2.6.3; extra == \"all\"->autogluon.core[all]==1.0.0->autogluon) (0.3.14)\n",
      "Requirement already satisfied: gpustat>=1.0.0 in /home/ubuntu/.local/lib/python3.10/site-packages (from ray[default,tune]<2.7,>=2.6.3; extra == \"all\"->autogluon.core[all]==1.0.0->autogluon) (1.1.1)\n",
      "Requirement already satisfied: opencensus in /home/ubuntu/.local/lib/python3.10/site-packages (from ray[default,tune]<2.7,>=2.6.3; extra == \"all\"->autogluon.core[all]==1.0.0->autogluon) (0.11.4)\n",
      "Requirement already satisfied: prometheus-client>=0.7.1 in /usr/lib/python3/dist-packages (from ray[default,tune]<2.7,>=2.6.3; extra == \"all\"->autogluon.core[all]==1.0.0->autogluon) (0.9.0)\n",
      "Requirement already satisfied: smart-open in /home/ubuntu/.local/lib/python3.10/site-packages (from ray[default,tune]<2.7,>=2.6.3; extra == \"all\"->autogluon.core[all]==1.0.0->autogluon) (6.4.0)\n",
      "Requirement already satisfied: virtualenv<20.21.1,>=20.0.24 in /usr/lib/python3/dist-packages (from ray[default,tune]<2.7,>=2.6.3; extra == \"all\"->autogluon.core[all]==1.0.0->autogluon) (20.13.0+ds)\n",
      "Requirement already satisfied: tensorboardX>=1.9 in /home/ubuntu/.local/lib/python3.10/site-packages (from ray[default,tune]<2.7,>=2.6.3; extra == \"all\"->autogluon.core[all]==1.0.0->autogluon) (2.6.2.2)\n",
      "Requirement already satisfied: pyarrow>=6.0.1 in /home/ubuntu/.local/lib/python3.10/site-packages (from ray[default,tune]<2.7,>=2.6.3; extra == \"all\"->autogluon.core[all]==1.0.0->autogluon) (15.0.2)\n",
      "Requirement already satisfied: imageio>=2.4.1 in /home/ubuntu/.local/lib/python3.10/site-packages (from scikit-image<0.21.0,>=0.19.1->autogluon.multimodal==1.0.0->autogluon) (2.34.0)\n",
      "Requirement already satisfied: tifffile>=2019.7.26 in /home/ubuntu/.local/lib/python3.10/site-packages (from scikit-image<0.21.0,>=0.19.1->autogluon.multimodal==1.0.0->autogluon) (2024.2.12)\n",
      "Requirement already satisfied: PyWavelets>=1.1.1 in /home/ubuntu/.local/lib/python3.10/site-packages (from scikit-image<0.21.0,>=0.19.1->autogluon.multimodal==1.0.0->autogluon) (1.5.0)\n",
      "Requirement already satisfied: lazy_loader>=0.1 in /home/ubuntu/.local/lib/python3.10/site-packages (from scikit-image<0.21.0,>=0.19.1->autogluon.multimodal==1.0.0->autogluon) (0.4)\n",
      "Requirement already satisfied: threadpoolctl>=2.0.0 in /usr/lib/python3/dist-packages (from scikit-learn<1.5,>=1.3.0->autogluon.core==1.0.0->autogluon.core[all]==1.0.0->autogluon) (3.1.0)\n",
      "Requirement already satisfied: patsy>=0.5.2 in /home/ubuntu/.local/lib/python3.10/site-packages (from statsmodels<0.15,>=0.13.0->autogluon.timeseries==1.0.0->autogluon.timeseries[all]==1.0.0->autogluon) (0.5.4)\n",
      "Requirement already satisfied: safetensors in /home/ubuntu/.local/lib/python3.10/site-packages (from timm<0.10.0,>=0.9.5->autogluon.multimodal==1.0.0->autogluon) (0.4.3)\n",
      "Requirement already satisfied: tokenizers!=0.11.3,<0.14,>=0.11.1 in /home/ubuntu/.local/lib/python3.10/site-packages (from transformers<4.32.0,>=4.31.0->transformers[sentencepiece]<4.32.0,>=4.31.0->autogluon.multimodal==1.0.0->autogluon) (0.13.3)\n",
      "Requirement already satisfied: sentencepiece!=0.1.92,>=0.1.91 in /home/ubuntu/.local/lib/python3.10/site-packages (from transformers[sentencepiece]<4.32.0,>=4.31.0->autogluon.multimodal==1.0.0->autogluon) (0.2.0)\n",
      "Requirement already satisfied: multidict<7.0,>=4.5 in /home/ubuntu/.local/lib/python3.10/site-packages (from aiohttp>=3.7->ray[default,tune]<2.7,>=2.6.3; extra == \"all\"->autogluon.core[all]==1.0.0->autogluon) (6.0.5)\n",
      "Requirement already satisfied: yarl<2.0,>=1.0 in /home/ubuntu/.local/lib/python3.10/site-packages (from aiohttp>=3.7->ray[default,tune]<2.7,>=2.6.3; extra == \"all\"->autogluon.core[all]==1.0.0->autogluon) (1.9.4)\n",
      "Requirement already satisfied: types-python-dateutil>=2.8.10 in /home/ubuntu/.local/lib/python3.10/site-packages (from arrow<3.0,>=1.2.0->lightning<2.1,>=2.0.0->autogluon.multimodal==1.0.0->autogluon) (2.8.19.14)\n",
      "Requirement already satisfied: pyarrow-hotfix in /home/ubuntu/.local/lib/python3.10/site-packages (from datasets>=2.0.0->evaluate<0.5.0,>=0.4.0->autogluon.multimodal==1.0.0->autogluon) (0.6)\n",
      "Requirement already satisfied: ordered-set<4.2.0,>=4.1.0 in /home/ubuntu/.local/lib/python3.10/site-packages (from deepdiff<8.0,>=5.7.0->lightning<2.1,>=2.0.0->autogluon.multimodal==1.0.0->autogluon) (4.1.0)\n",
      "Requirement already satisfied: nvidia-ml-py>=11.450.129 in /home/ubuntu/.local/lib/python3.10/site-packages (from gpustat>=1.0.0->ray[default,tune]<2.7,>=2.6.3; extra == \"all\"->autogluon.core[all]==1.0.0->autogluon) (12.535.133)\n",
      "Requirement already satisfied: blessed>=1.17.1 in /home/ubuntu/.local/lib/python3.10/site-packages (from gpustat>=1.0.0->ray[default,tune]<2.7,>=2.6.3; extra == \"all\"->autogluon.core[all]==1.0.0->autogluon) (1.20.0)\n",
      "Requirement already satisfied: editor>=1.6.0 in /home/ubuntu/.local/lib/python3.10/site-packages (from inquirer<5.0,>=2.10.0->lightning<2.1,>=2.0.0->autogluon.multimodal==1.0.0->autogluon) (1.6.6)\n",
      "Requirement already satisfied: readchar>=3.0.6 in /home/ubuntu/.local/lib/python3.10/site-packages (from inquirer<5.0,>=2.10.0->lightning<2.1,>=2.0.0->autogluon.multimodal==1.0.0->autogluon) (4.0.6)\n",
      "Requirement already satisfied: pyjwt in /usr/lib/python3/dist-packages (from lightning-cloud>=0.5.38->lightning<2.1,>=2.0.0->autogluon.multimodal==1.0.0->autogluon) (2.3.0)\n",
      "Requirement already satisfied: llvmlite<0.42,>=0.41.0dev0 in /home/ubuntu/.local/lib/python3.10/site-packages (from numba->mlforecast<0.10.1,>=0.10.0->autogluon.timeseries==1.0.0->autogluon.timeseries[all]==1.0.0->autogluon) (0.41.1)\n",
      "Requirement already satisfied: markdown-it-py>=2.2.0 in /home/ubuntu/.local/lib/python3.10/site-packages (from rich<15.0,>=12.3.0->lightning<2.1,>=2.0.0->autogluon.multimodal==1.0.0->autogluon) (3.0.0)\n",
      "Requirement already satisfied: pygments<3.0.0,>=2.13.0 in /home/ubuntu/.local/lib/python3.10/site-packages (from rich<15.0,>=12.3.0->lightning<2.1,>=2.0.0->autogluon.multimodal==1.0.0->autogluon) (2.17.2)\n",
      "Requirement already satisfied: spacy-legacy<3.1.0,>=3.0.11 in /home/ubuntu/.local/lib/python3.10/site-packages (from spacy<4->fastai<2.8,>=2.3.1->autogluon.tabular[all]==1.0.0->autogluon) (3.0.12)\n",
      "Requirement already satisfied: spacy-loggers<2.0.0,>=1.0.0 in /home/ubuntu/.local/lib/python3.10/site-packages (from spacy<4->fastai<2.8,>=2.3.1->autogluon.tabular[all]==1.0.0->autogluon) (1.0.5)\n",
      "Requirement already satisfied: murmurhash<1.1.0,>=0.28.0 in /home/ubuntu/.local/lib/python3.10/site-packages (from spacy<4->fastai<2.8,>=2.3.1->autogluon.tabular[all]==1.0.0->autogluon) (1.0.10)\n",
      "Requirement already satisfied: cymem<2.1.0,>=2.0.2 in /home/ubuntu/.local/lib/python3.10/site-packages (from spacy<4->fastai<2.8,>=2.3.1->autogluon.tabular[all]==1.0.0->autogluon) (2.0.8)\n",
      "Requirement already satisfied: preshed<3.1.0,>=3.0.2 in /home/ubuntu/.local/lib/python3.10/site-packages (from spacy<4->fastai<2.8,>=2.3.1->autogluon.tabular[all]==1.0.0->autogluon) (3.0.9)\n",
      "Requirement already satisfied: thinc<8.3.0,>=8.2.2 in /home/ubuntu/.local/lib/python3.10/site-packages (from spacy<4->fastai<2.8,>=2.3.1->autogluon.tabular[all]==1.0.0->autogluon) (8.2.3)\n",
      "Requirement already satisfied: wasabi<1.2.0,>=0.9.1 in /home/ubuntu/.local/lib/python3.10/site-packages (from spacy<4->fastai<2.8,>=2.3.1->autogluon.tabular[all]==1.0.0->autogluon) (1.1.2)\n",
      "Requirement already satisfied: srsly<3.0.0,>=2.4.3 in /home/ubuntu/.local/lib/python3.10/site-packages (from spacy<4->fastai<2.8,>=2.3.1->autogluon.tabular[all]==1.0.0->autogluon) (2.4.8)\n",
      "Requirement already satisfied: catalogue<2.1.0,>=2.0.6 in /home/ubuntu/.local/lib/python3.10/site-packages (from spacy<4->fastai<2.8,>=2.3.1->autogluon.tabular[all]==1.0.0->autogluon) (2.0.10)\n",
      "Requirement already satisfied: weasel<0.4.0,>=0.1.0 in /home/ubuntu/.local/lib/python3.10/site-packages (from spacy<4->fastai<2.8,>=2.3.1->autogluon.tabular[all]==1.0.0->autogluon) (0.3.4)\n",
      "Requirement already satisfied: typer<0.10.0,>=0.3.0 in /home/ubuntu/.local/lib/python3.10/site-packages (from spacy<4->fastai<2.8,>=2.3.1->autogluon.tabular[all]==1.0.0->autogluon) (0.9.4)\n",
      "Requirement already satisfied: langcodes<4.0.0,>=3.2.0 in /home/ubuntu/.local/lib/python3.10/site-packages (from spacy<4->fastai<2.8,>=2.3.1->autogluon.tabular[all]==1.0.0->autogluon) (3.3.0)\n",
      "Requirement already satisfied: anyio<5,>=3.4.0 in /home/ubuntu/.local/lib/python3.10/site-packages (from starlette->lightning<2.1,>=2.0.0->autogluon.multimodal==1.0.0->autogluon) (4.1.0)\n",
      "Requirement already satisfied: itsdangerous<3.0.0,>=2.0.1 in /home/ubuntu/.local/lib/python3.10/site-packages (from starsessions<2.0,>=1.2.1->lightning<2.1,>=2.0.0->autogluon.multimodal==1.0.0->autogluon) (2.1.2)\n",
      "Requirement already satisfied: h11>=0.8 in /home/ubuntu/.local/lib/python3.10/site-packages (from uvicorn<2.0->lightning<2.1,>=2.0.0->autogluon.multimodal==1.0.0->autogluon) (0.14.0)\n",
      "Requirement already satisfied: distlib<1,>=0.3.1 in /usr/lib/python3/dist-packages (from virtualenv<20.21.1,>=20.0.24->ray[default,tune]<2.7,>=2.6.3; extra == \"all\"->autogluon.core[all]==1.0.0->autogluon) (0.3.4)\n",
      "Requirement already satisfied: platformdirs<3,>=2 in /usr/lib/python3/dist-packages (from virtualenv<20.21.1,>=20.0.24->ray[default,tune]<2.7,>=2.6.3; extra == \"all\"->autogluon.core[all]==1.0.0->autogluon) (2.5.1)\n",
      "Requirement already satisfied: markdown in /usr/lib/python3/dist-packages (from model-index->openmim<0.4.0,>=0.3.7->autogluon.multimodal==1.0.0->autogluon) (3.3.6)\n",
      "Requirement already satisfied: opencensus-context>=0.1.3 in /home/ubuntu/.local/lib/python3.10/site-packages (from opencensus->ray[default,tune]<2.7,>=2.6.3; extra == \"all\"->autogluon.core[all]==1.0.0->autogluon) (0.1.3)\n",
      "Requirement already satisfied: google-api-core<3.0.0,>=1.0.0 in /home/ubuntu/.local/lib/python3.10/site-packages (from opencensus->ray[default,tune]<2.7,>=2.6.3; extra == \"all\"->autogluon.core[all]==1.0.0->autogluon) (2.18.0)\n",
      "Requirement already satisfied: pycryptodome in /home/ubuntu/.local/lib/python3.10/site-packages (from opendatalab->openmim<0.4.0,>=0.3.7->autogluon.multimodal==1.0.0->autogluon) (3.20.0)\n",
      "Requirement already satisfied: openxlab in /home/ubuntu/.local/lib/python3.10/site-packages (from opendatalab->openmim<0.4.0,>=0.3.7->autogluon.multimodal==1.0.0->autogluon) (0.0.38)\n",
      "Requirement already satisfied: tenacity>=6.2.0 in /home/ubuntu/.local/lib/python3.10/site-packages (from plotly->catboost<1.3,>=1.1->autogluon.tabular[all]==1.0.0->autogluon) (8.2.3)\n",
      "Requirement already satisfied: sniffio>=1.1 in /home/ubuntu/.local/lib/python3.10/site-packages (from anyio<5,>=3.4.0->starlette->lightning<2.1,>=2.0.0->autogluon.multimodal==1.0.0->autogluon) (1.3.0)\n",
      "Requirement already satisfied: exceptiongroup>=1.0.2 in /home/ubuntu/.local/lib/python3.10/site-packages (from anyio<5,>=3.4.0->starlette->lightning<2.1,>=2.0.0->autogluon.multimodal==1.0.0->autogluon) (1.2.0)\n",
      "Requirement already satisfied: wcwidth>=0.1.4 in /usr/lib/python3/dist-packages (from blessed>=1.17.1->gpustat>=1.0.0->ray[default,tune]<2.7,>=2.6.3; extra == \"all\"->autogluon.core[all]==1.0.0->autogluon) (0.2.5)\n",
      "Requirement already satisfied: runs in /home/ubuntu/.local/lib/python3.10/site-packages (from editor>=1.6.0->inquirer<5.0,>=2.10.0->lightning<2.1,>=2.0.0->autogluon.multimodal==1.0.0->autogluon) (1.2.2)\n",
      "Requirement already satisfied: xmod in /home/ubuntu/.local/lib/python3.10/site-packages (from editor>=1.6.0->inquirer<5.0,>=2.10.0->lightning<2.1,>=2.0.0->autogluon.multimodal==1.0.0->autogluon) (1.8.1)\n",
      "Requirement already satisfied: googleapis-common-protos<2.0.dev0,>=1.56.2 in /home/ubuntu/.local/lib/python3.10/site-packages (from google-api-core<3.0.0,>=1.0.0->opencensus->ray[default,tune]<2.7,>=2.6.3; extra == \"all\"->autogluon.core[all]==1.0.0->autogluon) (1.63.0)\n",
      "Requirement already satisfied: proto-plus<2.0.0dev,>=1.22.3 in /home/ubuntu/.local/lib/python3.10/site-packages (from google-api-core<3.0.0,>=1.0.0->opencensus->ray[default,tune]<2.7,>=2.6.3; extra == \"all\"->autogluon.core[all]==1.0.0->autogluon) (1.23.0)\n",
      "Requirement already satisfied: google-auth<3.0.dev0,>=2.14.1 in /home/ubuntu/.local/lib/python3.10/site-packages (from google-api-core<3.0.0,>=1.0.0->opencensus->ray[default,tune]<2.7,>=2.6.3; extra == \"all\"->autogluon.core[all]==1.0.0->autogluon) (2.29.0)\n",
      "Requirement already satisfied: mdurl~=0.1 in /home/ubuntu/.local/lib/python3.10/site-packages (from markdown-it-py>=2.2.0->rich<15.0,>=12.3.0->lightning<2.1,>=2.0.0->autogluon.multimodal==1.0.0->autogluon) (0.1.2)\n",
      "Requirement already satisfied: blis<0.8.0,>=0.7.8 in /home/ubuntu/.local/lib/python3.10/site-packages (from thinc<8.3.0,>=8.2.2->spacy<4->fastai<2.8,>=2.3.1->autogluon.tabular[all]==1.0.0->autogluon) (0.7.11)\n",
      "Requirement already satisfied: confection<1.0.0,>=0.0.1 in /home/ubuntu/.local/lib/python3.10/site-packages (from thinc<8.3.0,>=8.2.2->spacy<4->fastai<2.8,>=2.3.1->autogluon.tabular[all]==1.0.0->autogluon) (0.1.4)\n",
      "Requirement already satisfied: cloudpathlib<0.17.0,>=0.7.0 in /home/ubuntu/.local/lib/python3.10/site-packages (from weasel<0.4.0,>=0.1.0->spacy<4->fastai<2.8,>=2.3.1->autogluon.tabular[all]==1.0.0->autogluon) (0.16.0)\n",
      "Requirement already satisfied: oss2~=2.17.0 in /home/ubuntu/.local/lib/python3.10/site-packages (from openxlab->opendatalab->openmim<0.4.0,>=0.3.7->autogluon.multimodal==1.0.0->autogluon) (2.17.0)\n",
      "Requirement already satisfied: PySocks!=1.5.7,>=1.5.6 in /home/ubuntu/.local/lib/python3.10/site-packages (from requests[socks]->gdown>=4.0.0->nlpaug<1.2.0,>=1.1.10->autogluon.multimodal==1.0.0->autogluon) (1.7.1)\n",
      "Requirement already satisfied: cachetools<6.0,>=2.0.0 in /usr/lib/python3/dist-packages (from google-auth<3.0.dev0,>=2.14.1->google-api-core<3.0.0,>=1.0.0->opencensus->ray[default,tune]<2.7,>=2.6.3; extra == \"all\"->autogluon.core[all]==1.0.0->autogluon) (5.0.0)\n",
      "Requirement already satisfied: pyasn1-modules>=0.2.1 in /usr/lib/python3/dist-packages (from google-auth<3.0.dev0,>=2.14.1->google-api-core<3.0.0,>=1.0.0->opencensus->ray[default,tune]<2.7,>=2.6.3; extra == \"all\"->autogluon.core[all]==1.0.0->autogluon) (0.2.1)\n",
      "Requirement already satisfied: rsa<5,>=3.1.4 in /usr/lib/python3/dist-packages (from google-auth<3.0.dev0,>=2.14.1->google-api-core<3.0.0,>=1.0.0->opencensus->ray[default,tune]<2.7,>=2.6.3; extra == \"all\"->autogluon.core[all]==1.0.0->autogluon) (4.8)\n",
      "Requirement already satisfied: aliyun-python-sdk-core>=2.13.12 in /home/ubuntu/.local/lib/python3.10/site-packages (from oss2~=2.17.0->openxlab->opendatalab->openmim<0.4.0,>=0.3.7->autogluon.multimodal==1.0.0->autogluon) (2.15.1)\n",
      "Requirement already satisfied: aliyun-python-sdk-kms>=2.4.1 in /home/ubuntu/.local/lib/python3.10/site-packages (from oss2~=2.17.0->openxlab->opendatalab->openmim<0.4.0,>=0.3.7->autogluon.multimodal==1.0.0->autogluon) (2.16.2)\n",
      "Requirement already satisfied: crcmod>=1.7 in /home/ubuntu/.local/lib/python3.10/site-packages (from oss2~=2.17.0->openxlab->opendatalab->openmim<0.4.0,>=0.3.7->autogluon.multimodal==1.0.0->autogluon) (1.7)\n",
      "Requirement already satisfied: cryptography>=2.6.0 in /usr/lib/python3/dist-packages (from aliyun-python-sdk-core>=2.13.12->oss2~=2.17.0->openxlab->opendatalab->openmim<0.4.0,>=0.3.7->autogluon.multimodal==1.0.0->autogluon) (3.4.8)\n",
      "\u001b[33mDEPRECATION: flatbuffers 1.12.1-git20200711.33e2d80-dfsg1-0.6 has a non-standard version number. pip 24.0 will enforce this behaviour change. A possible replacement is to upgrade to a newer version of flatbuffers or contact the author to suggest that they release a version with a conforming version number. Discussion can be found at https://github.com/pypa/pip/issues/12063\u001b[0m\u001b[33m\n",
      "\u001b[0m\n",
      "\u001b[1m[\u001b[0m\u001b[34;49mnotice\u001b[0m\u001b[1;39;49m]\u001b[0m\u001b[39;49m A new release of pip is available: \u001b[0m\u001b[31;49m23.3.1\u001b[0m\u001b[39;49m -> \u001b[0m\u001b[32;49m24.0\u001b[0m\n",
      "\u001b[1m[\u001b[0m\u001b[34;49mnotice\u001b[0m\u001b[1;39;49m]\u001b[0m\u001b[39;49m To update, run: \u001b[0m\u001b[32;49mpython3 -m pip install --upgrade pip\u001b[0m\n"
     ]
    },
    {
     "name": "stderr",
     "output_type": "stream",
     "text": [
      "/home/ubuntu/.local/lib/python3.10/site-packages/pandas/core/arrays/masked.py:62: UserWarning: Pandas requires version '1.3.4' or newer of 'bottleneck' (version '1.3.2' currently installed).\n",
      "  from pandas.core import (\n",
      "/usr/lib/python3/dist-packages/scipy/__init__.py:146: UserWarning: A NumPy version >=1.17.3 and <1.25.0 is required for this version of SciPy (detected version 1.25.2\n",
      "  warnings.warn(f\"A NumPy version >={np_minversion} and <{np_maxversion}\"\n",
      "2024-04-16 03:30:11.011889: I tensorflow/core/util/port.cc:110] oneDNN custom operations are on. You may see slightly different numerical results due to floating-point round-off errors from different computation orders. To turn them off, set the environment variable `TF_ENABLE_ONEDNN_OPTS=0`.\n",
      "2024-04-16 03:30:11.054156: I tensorflow/core/platform/cpu_feature_guard.cc:182] This TensorFlow binary is optimized to use available CPU instructions in performance-critical operations.\n",
      "To enable the following instructions: AVX512F AVX512_VNNI, in other operations, rebuild TensorFlow with the appropriate compiler flags.\n",
      "/home/ubuntu/.local/lib/python3.10/site-packages/pkg_resources/__init__.py:116: PkgResourcesDeprecationWarning: 1.12.1-git20200711.33e2d80-dfsg1-0.6 is an invalid version and will not be supported in a future release\n",
      "  warnings.warn(\n"
     ]
    }
   ],
   "source": [
    "!sudo apt update\n",
    "!sudo apt install default-jre -y\n",
    "!pip install autogluon language_tool_python\n",
    "import pandas as pd\n",
    "import matplotlib.pyplot as plt\n",
    "import seaborn as sns\n",
    "from autogluon.tabular import TabularDataset, TabularPredictor\n",
    "from autogluon.multimodal import MultiModalPredictor\n",
    "from language_tool_python import LanguageTool\n",
    "import concurrent.futures\n",
    "\n",
    "train_data = TabularDataset('data/train.csv')\n",
    "test_data = TabularDataset('data/test.csv')"
   ]
  },
  {
   "cell_type": "code",
   "execution_count": 2,
   "id": "46f2c76c-df6d-4fe0-8d75-d9fb80eaa771",
   "metadata": {},
   "outputs": [
    {
     "data": {
      "image/png": "[encoded data removed]",
      "text/plain": [
       "<Figure size 720x432 with 1 Axes>"
      ]
     },
     "metadata": {
      "needs_background": "light"
     },
     "output_type": "display_data"
    }
   ],
   "source": [
    "train_data['word_length'] = train_data['full_text'].apply(lambda x: len(x.split()))\n",
    "\n",
    "plt.figure(figsize=(10, 6))\n",
    "sns.regplot(data=train_data, x='word_length', y='score', scatter_kws={'alpha':0.5})\n",
    "plt.title('Seaborn Regression Plot of Full Text Word Length vs. Score')\n",
    "plt.xlabel('Word Length')\n",
    "plt.ylabel('Score')\n",
    "plt.grid(True)\n",
    "plt.show()"
   ]
  },
  {
   "cell_type": "code",
   "execution_count": 3,
   "id": "bb7732fa-a3ea-4a00-ae88-7e358757a09f",
   "metadata": {},
   "outputs": [
    {
     "data": {
      "image/png": "[encoded data removed]",
      "text/plain": [
       "<Figure size 720x432 with 1 Axes>"
      ]
     },
     "metadata": {
      "needs_background": "light"
     },
     "output_type": "display_data"
    }
   ],
   "source": [
    "lt = LanguageTool('en-US')\n",
    "\n",
    "def count_grammar_errors(text):\n",
    "    matches = lt.check(text)\n",
    "    return len(matches)\n",
    "\n",
    "def apply_parallel(df, func):\n",
    "    with concurrent.futures.ThreadPoolExecutor() as executor:\n",
    "        results = list(executor.map(func, df['full_text']))\n",
    "    return results\n",
    "\n",
    "train_data['grammar_errors'] = apply_parallel(train_data, count_grammar_errors)\n",
    "\n",
    "plt.figure(figsize=(10, 6))\n",
    "sns.regplot(data=train_data, x='grammar_errors', y='score', scatter_kws={'alpha':0.5})\n",
    "plt.title('Seaborn Regression Plot of Grammar Errors vs. Score')\n",
    "plt.xlabel('Number of Grammar Errors')\n",
    "plt.ylabel('Score')\n",
    "plt.grid(True)\n",
    "plt.show()"
   ]
  },
  {
   "cell_type": "code",
   "execution_count": 4,
   "id": "32723f54-3454-43f8-a3e7-c1386862480d",
   "metadata": {},
   "outputs": [],
   "source": [
    "# lt = LanguageTool('en-US')\n",
    "\n",
    "# def count_grammar_errors(text):\n",
    "#     matches = lt.check(text)\n",
    "#     error_dict = {}\n",
    "#     for match in matches:\n",
    "#         error_type = match.ruleId\n",
    "#         if error_type in error_dict:\n",
    "#             error_dict[error_type] += 1\n",
    "#         else:\n",
    "#             error_dict[error_type] = 1\n",
    "#     return error_dict\n",
    "\n",
    "# def apply_parallel(df, func):\n",
    "#     with concurrent.futures.ThreadPoolExecutor() as executor:\n",
    "#         results = list(executor.map(func, df['full_text']))\n",
    "#     return results\n",
    "\n",
    "# error_list = apply_parallel(train_data, count_grammar_errors)\n",
    "\n",
    "# errors_df = pd.DataFrame(error_list)\n",
    "# errors_df.fillna(0, inplace=True)\n",
    "# train_data = pd.concat([train_data, errors_df], axis=1)"
   ]
  },
  {
   "cell_type": "code",
   "execution_count": 5,
   "id": "62ae07cd-97df-47bb-b42e-fa072c1ea688",
   "metadata": {},
   "outputs": [
    {
     "name": "stderr",
     "output_type": "stream",
     "text": [
      "No path specified. Models will be saved in: \"AutogluonModels/ag-20240416_033357\"\n",
      "=================== System Info ===================\n",
      "AutoGluon Version:  1.0.0\n",
      "Python Version:     3.10.12\n",
      "Operating System:   Linux\n",
      "Platform Machine:   x86_64\n",
      "Platform Version:   #38~22.04.1-Ubuntu SMP PREEMPT_DYNAMIC Thu Nov  2 18:01:13 UTC 2\n",
      "CPU Count:          30\n",
      "Pytorch Version:    2.0.1\n",
      "CUDA Version:       12.2\n",
      "Memory Avail:       177.90 GB / 196.56 GB (90.5%)\n",
      "Disk Space Avail:   8589934570.05 GB / 8589934592.00 GB (100.0%)\n",
      "===================================================\n",
      "AutoGluon infers your prediction problem is: 'multiclass' (because dtype of label-column == int, but few unique label-values observed).\n",
      "\t6 unique label values:  [3, 4, 2, 1, 5, 6]\n",
      "\tIf 'multiclass' is not the correct problem_type, please manually specify the problem_type parameter during predictor init (You may specify problem_type as one of: ['binary', 'multiclass', 'regression'])\n",
      "\n",
      "AutoMM starts to create your model. ✨✨✨\n",
      "\n",
      "To track the learning progress, you can open a terminal and launch Tensorboard:\n",
      "    ```shell\n",
      "    # Assume you have installed tensorboard\n",
      "    tensorboard --logdir /home/ubuntu/fs/AutogluonModels/ag-20240416_033357\n",
      "    ```\n",
      "\n",
      "Global seed set to 0\n",
      "GPU Count: 1\n",
      "GPU Count to be Used: 1\n",
      "GPU 0 Name: NVIDIA A10\n",
      "GPU 0 Memory: 6.4GB/22.49GB (Used/Total)\n",
      "\n",
      "/home/ubuntu/.local/lib/python3.10/site-packages/pkg_resources/__init__.py:116: PkgResourcesDeprecationWarning: 1.12.1-git20200711.33e2d80-dfsg1-0.6 is an invalid version and will not be supported in a future release\n",
      "  warnings.warn(\n",
      "Using 16bit Automatic Mixed Precision (AMP)\n",
      "GPU available: True (cuda), used: True\n",
      "TPU available: False, using: 0 TPU cores\n",
      "IPU available: False, using: 0 IPUs\n",
      "HPU available: False, using: 0 HPUs\n",
      "You are using a CUDA device ('NVIDIA A10') that has Tensor Cores. To properly utilize them, you should set `torch.set_float32_matmul_precision('medium' | 'high')` which will trade-off precision for performance. For more details, read https://pytorch.org/docs/stable/generated/torch.set_float32_matmul_precision.html#torch.set_float32_matmul_precision\n",
      "LOCAL_RANK: 0 - CUDA_VISIBLE_DEVICES: [0]\n",
      "\n",
      "  | Name              | Type                         | Params\n",
      "-------------------------------------------------------------------\n",
      "0 | model             | HFAutoModelForTextPrediction | 108 M \n",
      "1 | validation_metric | MulticlassCohenKappa         | 0     \n",
      "2 | loss_func         | CrossEntropyLoss             | 0     \n",
      "-------------------------------------------------------------------\n",
      "108 M     Trainable params\n",
      "0         Non-trainable params\n",
      "108 M     Total params\n",
      "435.585   Total estimated model params size (MB)\n"
     ]
    },
    {
     "data": {
      "application/vnd.jupyter.widget-view+json": {
       "model_id": "f53303d1db9846868350e80abaa627c2",
       "version_major": 2,
       "version_minor": 0
      },
      "text/plain": [
       "Sanity Checking: 0it [00:00, ?it/s]"
      ]
     },
     "metadata": {},
     "output_type": "display_data"
    },
    {
     "data": {
      "application/vnd.jupyter.widget-view+json": {
       "model_id": "5c6e194898cc4219ae779da6544dff89",
       "version_major": 2,
       "version_minor": 0
      },
      "text/plain": [
       "Training: 0it [00:00, ?it/s]"
      ]
     },
     "metadata": {},
     "output_type": "display_data"
    },
    {
     "data": {
      "application/vnd.jupyter.widget-view+json": {
       "model_id": "30379bf0eb6f466fbb6aad0820771502",
       "version_major": 2,
       "version_minor": 0
      },
      "text/plain": [
       "Validation: 0it [00:00, ?it/s]"
      ]
     },
     "metadata": {},
     "output_type": "display_data"
    },
    {
     "name": "stderr",
     "output_type": "stream",
     "text": [
      "Epoch 0, global step 60: 'val_quadratic_kappa' reached 0.70543 (best 0.70543), saving model to '/home/ubuntu/fs/AutogluonModels/ag-20240416_033357/epoch=0-step=60.ckpt' as top 3\n"
     ]
    },
    {
     "data": {
      "application/vnd.jupyter.widget-view+json": {
       "model_id": "26ceac0233b4439096c954b8c441c928",
       "version_major": 2,
       "version_minor": 0
      },
      "text/plain": [
       "Validation: 0it [00:00, ?it/s]"
      ]
     },
     "metadata": {},
     "output_type": "display_data"
    },
    {
     "name": "stderr",
     "output_type": "stream",
     "text": [
      "Epoch 0, global step 121: 'val_quadratic_kappa' reached 0.73939 (best 0.73939), saving model to '/home/ubuntu/fs/AutogluonModels/ag-20240416_033357/epoch=0-step=121.ckpt' as top 3\n"
     ]
    },
    {
     "data": {
      "application/vnd.jupyter.widget-view+json": {
       "model_id": "fe7b651c87844b9f95d7d129e901144b",
       "version_major": 2,
       "version_minor": 0
      },
      "text/plain": [
       "Validation: 0it [00:00, ?it/s]"
      ]
     },
     "metadata": {},
     "output_type": "display_data"
    },
    {
     "name": "stderr",
     "output_type": "stream",
     "text": [
      "Epoch 1, global step 182: 'val_quadratic_kappa' reached 0.73799 (best 0.73939), saving model to '/home/ubuntu/fs/AutogluonModels/ag-20240416_033357/epoch=1-step=182.ckpt' as top 3\n"
     ]
    },
    {
     "data": {
      "application/vnd.jupyter.widget-view+json": {
       "model_id": "8487b64d88d9404a80ec7df07a68ac5d",
       "version_major": 2,
       "version_minor": 0
      },
      "text/plain": [
       "Validation: 0it [00:00, ?it/s]"
      ]
     },
     "metadata": {},
     "output_type": "display_data"
    },
    {
     "name": "stderr",
     "output_type": "stream",
     "text": [
      "Epoch 1, global step 243: 'val_quadratic_kappa' reached 0.79876 (best 0.79876), saving model to '/home/ubuntu/fs/AutogluonModels/ag-20240416_033357/epoch=1-step=243.ckpt' as top 3\n"
     ]
    },
    {
     "data": {
      "application/vnd.jupyter.widget-view+json": {
       "model_id": "8ea928c13bfe4841bf787006fe6e295f",
       "version_major": 2,
       "version_minor": 0
      },
      "text/plain": [
       "Validation: 0it [00:00, ?it/s]"
      ]
     },
     "metadata": {},
     "output_type": "display_data"
    },
    {
     "name": "stderr",
     "output_type": "stream",
     "text": [
      "Epoch 2, global step 304: 'val_quadratic_kappa' reached 0.78610 (best 0.79876), saving model to '/home/ubuntu/fs/AutogluonModels/ag-20240416_033357/epoch=2-step=304.ckpt' as top 3\n"
     ]
    },
    {
     "data": {
      "application/vnd.jupyter.widget-view+json": {
       "model_id": "8f8851c3ed594c34a805880a6219737c",
       "version_major": 2,
       "version_minor": 0
      },
      "text/plain": [
       "Validation: 0it [00:00, ?it/s]"
      ]
     },
     "metadata": {},
     "output_type": "display_data"
    },
    {
     "name": "stderr",
     "output_type": "stream",
     "text": [
      "Epoch 2, global step 365: 'val_quadratic_kappa' reached 0.79030 (best 0.79876), saving model to '/home/ubuntu/fs/AutogluonModels/ag-20240416_033357/epoch=2-step=365.ckpt' as top 3\n"
     ]
    },
    {
     "data": {
      "application/vnd.jupyter.widget-view+json": {
       "model_id": "e8dd7e226dd047adb919da5c7388bccb",
       "version_major": 2,
       "version_minor": 0
      },
      "text/plain": [
       "Validation: 0it [00:00, ?it/s]"
      ]
     },
     "metadata": {},
     "output_type": "display_data"
    },
    {
     "name": "stderr",
     "output_type": "stream",
     "text": [
      "Epoch 3, global step 426: 'val_quadratic_kappa' reached 0.79999 (best 0.79999), saving model to '/home/ubuntu/fs/AutogluonModels/ag-20240416_033357/epoch=3-step=426.ckpt' as top 3\n"
     ]
    },
    {
     "data": {
      "application/vnd.jupyter.widget-view+json": {
       "model_id": "6aff166c0fcb468abcfe83ec6ded498e",
       "version_major": 2,
       "version_minor": 0
      },
      "text/plain": [
       "Validation: 0it [00:00, ?it/s]"
      ]
     },
     "metadata": {},
     "output_type": "display_data"
    },
    {
     "name": "stderr",
     "output_type": "stream",
     "text": [
      "Epoch 3, global step 487: 'val_quadratic_kappa' was not in top 3\n"
     ]
    },
    {
     "data": {
      "application/vnd.jupyter.widget-view+json": {
       "model_id": "5de016ba7ae44bb58f63fc7e44e8a823",
       "version_major": 2,
       "version_minor": 0
      },
      "text/plain": [
       "Validation: 0it [00:00, ?it/s]"
      ]
     },
     "metadata": {},
     "output_type": "display_data"
    },
    {
     "name": "stderr",
     "output_type": "stream",
     "text": [
      "Epoch 4, global step 548: 'val_quadratic_kappa' was not in top 3\n"
     ]
    },
    {
     "data": {
      "application/vnd.jupyter.widget-view+json": {
       "model_id": "4f5f25abc23f4e3eb65bfcd8721dce1a",
       "version_major": 2,
       "version_minor": 0
      },
      "text/plain": [
       "Validation: 0it [00:00, ?it/s]"
      ]
     },
     "metadata": {},
     "output_type": "display_data"
    },
    {
     "name": "stderr",
     "output_type": "stream",
     "text": [
      "Epoch 4, global step 609: 'val_quadratic_kappa' reached 0.79886 (best 0.79999), saving model to '/home/ubuntu/fs/AutogluonModels/ag-20240416_033357/epoch=4-step=609.ckpt' as top 3\n"
     ]
    },
    {
     "data": {
      "application/vnd.jupyter.widget-view+json": {
       "model_id": "4733fd0c970b4313be08f3a3b0e63a2a",
       "version_major": 2,
       "version_minor": 0
      },
      "text/plain": [
       "Validation: 0it [00:00, ?it/s]"
      ]
     },
     "metadata": {},
     "output_type": "display_data"
    },
    {
     "name": "stderr",
     "output_type": "stream",
     "text": [
      "Epoch 5, global step 670: 'val_quadratic_kappa' was not in top 3\n"
     ]
    },
    {
     "data": {
      "application/vnd.jupyter.widget-view+json": {
       "model_id": "3f420619505d417491df1c25fd083c60",
       "version_major": 2,
       "version_minor": 0
      },
      "text/plain": [
       "Validation: 0it [00:00, ?it/s]"
      ]
     },
     "metadata": {},
     "output_type": "display_data"
    },
    {
     "name": "stderr",
     "output_type": "stream",
     "text": [
      "Epoch 5, global step 731: 'val_quadratic_kappa' was not in top 3\n"
     ]
    },
    {
     "data": {
      "application/vnd.jupyter.widget-view+json": {
       "model_id": "d45bac5142574a6b8e3ec2b1a401d606",
       "version_major": 2,
       "version_minor": 0
      },
      "text/plain": [
       "Validation: 0it [00:00, ?it/s]"
      ]
     },
     "metadata": {},
     "output_type": "display_data"
    },
    {
     "name": "stderr",
     "output_type": "stream",
     "text": [
      "Epoch 6, global step 792: 'val_quadratic_kappa' was not in top 3\n"
     ]
    },
    {
     "data": {
      "application/vnd.jupyter.widget-view+json": {
       "model_id": "102d117fb2014836a97eeefb5336d2bd",
       "version_major": 2,
       "version_minor": 0
      },
      "text/plain": [
       "Validation: 0it [00:00, ?it/s]"
      ]
     },
     "metadata": {},
     "output_type": "display_data"
    },
    {
     "name": "stderr",
     "output_type": "stream",
     "text": [
      "Epoch 6, global step 853: 'val_quadratic_kappa' was not in top 3\n"
     ]
    },
    {
     "data": {
      "application/vnd.jupyter.widget-view+json": {
       "model_id": "da0f144a16dc4bb1b678d68cf38bbebf",
       "version_major": 2,
       "version_minor": 0
      },
      "text/plain": [
       "Validation: 0it [00:00, ?it/s]"
      ]
     },
     "metadata": {},
     "output_type": "display_data"
    },
    {
     "name": "stderr",
     "output_type": "stream",
     "text": [
      "Epoch 7, global step 914: 'val_quadratic_kappa' was not in top 3\n"
     ]
    },
    {
     "data": {
      "application/vnd.jupyter.widget-view+json": {
       "model_id": "83e198bfc9074889a5179d3a51410fbc",
       "version_major": 2,
       "version_minor": 0
      },
      "text/plain": [
       "Validation: 0it [00:00, ?it/s]"
      ]
     },
     "metadata": {},
     "output_type": "display_data"
    },
    {
     "name": "stderr",
     "output_type": "stream",
     "text": [
      "Epoch 7, global step 975: 'val_quadratic_kappa' was not in top 3\n"
     ]
    },
    {
     "data": {
      "application/vnd.jupyter.widget-view+json": {
       "model_id": "1da025c188814285b202605906333177",
       "version_major": 2,
       "version_minor": 0
      },
      "text/plain": [
       "Validation: 0it [00:00, ?it/s]"
      ]
     },
     "metadata": {},
     "output_type": "display_data"
    },
    {
     "name": "stderr",
     "output_type": "stream",
     "text": [
      "Epoch 8, global step 1036: 'val_quadratic_kappa' was not in top 3\n",
      "Start to fuse 3 checkpoints via the greedy soup algorithm.\n"
     ]
    },
    {
     "data": {
      "application/vnd.jupyter.widget-view+json": {
       "model_id": "6dcbeedf000c488cb001ee69ff5bed0d",
       "version_major": 2,
       "version_minor": 0
      },
      "text/plain": [
       "Predicting: 0it [00:00, ?it/s]"
      ]
     },
     "metadata": {},
     "output_type": "display_data"
    },
    {
     "data": {
      "application/vnd.jupyter.widget-view+json": {
       "model_id": "48ffc64adcf74cf9b47a44a313b870d5",
       "version_major": 2,
       "version_minor": 0
      },
      "text/plain": [
       "Predicting: 0it [00:00, ?it/s]"
      ]
     },
     "metadata": {},
     "output_type": "display_data"
    },
    {
     "data": {
      "application/vnd.jupyter.widget-view+json": {
       "model_id": "a3ed3e5b8f8f42298485dc06a1ee9c0c",
       "version_major": 2,
       "version_minor": 0
      },
      "text/plain": [
       "Predicting: 0it [00:00, ?it/s]"
      ]
     },
     "metadata": {},
     "output_type": "display_data"
    },
    {
     "name": "stderr",
     "output_type": "stream",
     "text": [
      "AutoMM has created your model. 🎉🎉🎉\n",
      "\n",
      "To load the model, use the code below:\n",
      "    ```python\n",
      "    from autogluon.multimodal import MultiModalPredictor\n",
      "    predictor = MultiModalPredictor.load(\"/home/ubuntu/fs/AutogluonModels/ag-20240416_033357\")\n",
      "    ```\n",
      "\n",
      "If you are not satisfied with the model, try to increase the training time, \n",
      "adjust the hyperparameters (https://auto.gluon.ai/stable/tutorials/multimodal/advanced_topics/customization.html),\n",
      "or post issues on GitHub (https://github.com/autogluon/autogluon/issues).\n",
      "\n",
      "\n"
     ]
    }
   ],
   "source": [
    "predictor = MultiModalPredictor(label='score', eval_metric='quadratic_kappa').fit(train_data=train_data[['score', 'full_text']])"
   ]
  },
  {
   "cell_type": "code",
   "execution_count": 6,
   "id": "ac75a565-b27d-4999-a647-09db5ce7e35b",
   "metadata": {},
   "outputs": [
    {
     "name": "stderr",
     "output_type": "stream",
     "text": [
      "No path specified. Models will be saved in: \"AutogluonModels/ag-20240416_050040\"\n",
      "=================== System Info ===================\n",
      "AutoGluon Version:  1.0.0\n",
      "Python Version:     3.10.12\n",
      "Operating System:   Linux\n",
      "Platform Machine:   x86_64\n",
      "Platform Version:   #38~22.04.1-Ubuntu SMP PREEMPT_DYNAMIC Thu Nov  2 18:01:13 UTC 2\n",
      "CPU Count:          30\n",
      "Pytorch Version:    2.0.1\n",
      "CUDA Version:       12.2\n",
      "Memory Avail:       173.66 GB / 196.56 GB (88.3%)\n",
      "Disk Space Avail:   8589934562.28 GB / 8589934592.00 GB (100.0%)\n",
      "===================================================\n",
      "AutoGluon infers your prediction problem is: 'multiclass' (because dtype of label-column == int, but few unique label-values observed).\n",
      "\t6 unique label values:  [3, 4, 2, 1, 5, 6]\n",
      "\tIf 'multiclass' is not the correct problem_type, please manually specify the problem_type parameter during predictor init (You may specify problem_type as one of: ['binary', 'multiclass', 'regression'])\n",
      "\n",
      "AutoMM starts to create your model. ✨✨✨\n",
      "\n",
      "To track the learning progress, you can open a terminal and launch Tensorboard:\n",
      "    ```shell\n",
      "    # Assume you have installed tensorboard\n",
      "    tensorboard --logdir /home/ubuntu/fs/AutogluonModels/ag-20240416_050040\n",
      "    ```\n",
      "\n",
      "Global seed set to 0\n",
      "GPU Count: 1\n",
      "GPU Count to be Used: 1\n",
      "GPU 0 Name: NVIDIA A10\n",
      "GPU 0 Memory: 1.09GB/22.49GB (Used/Total)\n",
      "\n",
      "Using 16bit Automatic Mixed Precision (AMP)\n",
      "GPU available: True (cuda), used: True\n",
      "TPU available: False, using: 0 TPU cores\n",
      "IPU available: False, using: 0 IPUs\n",
      "HPU available: False, using: 0 HPUs\n",
      "LOCAL_RANK: 0 - CUDA_VISIBLE_DEVICES: [0]\n",
      "\n",
      "  | Name              | Type                 | Params\n",
      "-----------------------------------------------------------\n",
      "0 | model             | MultimodalFusionMLP  | 110 M \n",
      "1 | validation_metric | MulticlassCohenKappa | 0     \n",
      "2 | loss_func         | CrossEntropyLoss     | 0     \n",
      "-----------------------------------------------------------\n",
      "110 M     Trainable params\n",
      "0         Non-trainable params\n",
      "110 M     Total params\n",
      "442.620   Total estimated model params size (MB)\n"
     ]
    },
    {
     "data": {
      "application/vnd.jupyter.widget-view+json": {
       "model_id": "907807f2ba104d71aec814197ab606d3",
       "version_major": 2,
       "version_minor": 0
      },
      "text/plain": [
       "Sanity Checking: 0it [00:00, ?it/s]"
      ]
     },
     "metadata": {},
     "output_type": "display_data"
    },
    {
     "data": {
      "application/vnd.jupyter.widget-view+json": {
       "model_id": "13b71990c27d473aa729b84f518cf336",
       "version_major": 2,
       "version_minor": 0
      },
      "text/plain": [
       "Training: 0it [00:00, ?it/s]"
      ]
     },
     "metadata": {},
     "output_type": "display_data"
    },
    {
     "data": {
      "application/vnd.jupyter.widget-view+json": {
       "model_id": "84b2a4b2b04245fa95a9864d849da36e",
       "version_major": 2,
       "version_minor": 0
      },
      "text/plain": [
       "Validation: 0it [00:00, ?it/s]"
      ]
     },
     "metadata": {},
     "output_type": "display_data"
    },
    {
     "name": "stderr",
     "output_type": "stream",
     "text": [
      "Epoch 0, global step 60: 'val_quadratic_kappa' reached 0.66140 (best 0.66140), saving model to '/home/ubuntu/fs/AutogluonModels/ag-20240416_050040/epoch=0-step=60.ckpt' as top 3\n"
     ]
    },
    {
     "data": {
      "application/vnd.jupyter.widget-view+json": {
       "model_id": "903f93e67faf47cb970c86b911f3314a",
       "version_major": 2,
       "version_minor": 0
      },
      "text/plain": [
       "Validation: 0it [00:00, ?it/s]"
      ]
     },
     "metadata": {},
     "output_type": "display_data"
    },
    {
     "name": "stderr",
     "output_type": "stream",
     "text": [
      "Epoch 0, global step 121: 'val_quadratic_kappa' reached 0.75555 (best 0.75555), saving model to '/home/ubuntu/fs/AutogluonModels/ag-20240416_050040/epoch=0-step=121.ckpt' as top 3\n"
     ]
    },
    {
     "data": {
      "application/vnd.jupyter.widget-view+json": {
       "model_id": "3e77161d3ab046a4a77d88974c3f610b",
       "version_major": 2,
       "version_minor": 0
      },
      "text/plain": [
       "Validation: 0it [00:00, ?it/s]"
      ]
     },
     "metadata": {},
     "output_type": "display_data"
    },
    {
     "name": "stderr",
     "output_type": "stream",
     "text": [
      "Epoch 1, global step 182: 'val_quadratic_kappa' reached 0.78374 (best 0.78374), saving model to '/home/ubuntu/fs/AutogluonModels/ag-20240416_050040/epoch=1-step=182.ckpt' as top 3\n"
     ]
    },
    {
     "data": {
      "application/vnd.jupyter.widget-view+json": {
       "model_id": "dcf1518ed1664b71a1dcc4f58bb648bf",
       "version_major": 2,
       "version_minor": 0
      },
      "text/plain": [
       "Validation: 0it [00:00, ?it/s]"
      ]
     },
     "metadata": {},
     "output_type": "display_data"
    },
    {
     "name": "stderr",
     "output_type": "stream",
     "text": [
      "Epoch 1, global step 243: 'val_quadratic_kappa' reached 0.80119 (best 0.80119), saving model to '/home/ubuntu/fs/AutogluonModels/ag-20240416_050040/epoch=1-step=243.ckpt' as top 3\n"
     ]
    },
    {
     "data": {
      "application/vnd.jupyter.widget-view+json": {
       "model_id": "a31b5f5148d648229332b435b484a171",
       "version_major": 2,
       "version_minor": 0
      },
      "text/plain": [
       "Validation: 0it [00:00, ?it/s]"
      ]
     },
     "metadata": {},
     "output_type": "display_data"
    },
    {
     "name": "stderr",
     "output_type": "stream",
     "text": [
      "Epoch 2, global step 304: 'val_quadratic_kappa' reached 0.77613 (best 0.80119), saving model to '/home/ubuntu/fs/AutogluonModels/ag-20240416_050040/epoch=2-step=304.ckpt' as top 3\n"
     ]
    },
    {
     "data": {
      "application/vnd.jupyter.widget-view+json": {
       "model_id": "17cceed9fd4e4d25adc320ac7a0535a2",
       "version_major": 2,
       "version_minor": 0
      },
      "text/plain": [
       "Validation: 0it [00:00, ?it/s]"
      ]
     },
     "metadata": {},
     "output_type": "display_data"
    },
    {
     "name": "stderr",
     "output_type": "stream",
     "text": [
      "Epoch 2, global step 365: 'val_quadratic_kappa' reached 0.78967 (best 0.80119), saving model to '/home/ubuntu/fs/AutogluonModels/ag-20240416_050040/epoch=2-step=365.ckpt' as top 3\n"
     ]
    },
    {
     "data": {
      "application/vnd.jupyter.widget-view+json": {
       "model_id": "fabcef060f044f18af01b8ccb893721e",
       "version_major": 2,
       "version_minor": 0
      },
      "text/plain": [
       "Validation: 0it [00:00, ?it/s]"
      ]
     },
     "metadata": {},
     "output_type": "display_data"
    },
    {
     "name": "stderr",
     "output_type": "stream",
     "text": [
      "Epoch 3, global step 426: 'val_quadratic_kappa' was not in top 3\n"
     ]
    },
    {
     "data": {
      "application/vnd.jupyter.widget-view+json": {
       "model_id": "7fb8780d3d49400c94e031cb0fcc621d",
       "version_major": 2,
       "version_minor": 0
      },
      "text/plain": [
       "Validation: 0it [00:00, ?it/s]"
      ]
     },
     "metadata": {},
     "output_type": "display_data"
    },
    {
     "name": "stderr",
     "output_type": "stream",
     "text": [
      "Epoch 3, global step 487: 'val_quadratic_kappa' was not in top 3\n"
     ]
    },
    {
     "data": {
      "application/vnd.jupyter.widget-view+json": {
       "model_id": "7f0ad0c64a0c47569925d917ecd9c637",
       "version_major": 2,
       "version_minor": 0
      },
      "text/plain": [
       "Validation: 0it [00:00, ?it/s]"
      ]
     },
     "metadata": {},
     "output_type": "display_data"
    },
    {
     "name": "stderr",
     "output_type": "stream",
     "text": [
      "Epoch 4, global step 548: 'val_quadratic_kappa' reached 0.79218 (best 0.80119), saving model to '/home/ubuntu/fs/AutogluonModels/ag-20240416_050040/epoch=4-step=548.ckpt' as top 3\n"
     ]
    },
    {
     "data": {
      "application/vnd.jupyter.widget-view+json": {
       "model_id": "af5468f2e5b848b08922f533bea59eab",
       "version_major": 2,
       "version_minor": 0
      },
      "text/plain": [
       "Validation: 0it [00:00, ?it/s]"
      ]
     },
     "metadata": {},
     "output_type": "display_data"
    },
    {
     "name": "stderr",
     "output_type": "stream",
     "text": [
      "Epoch 4, global step 609: 'val_quadratic_kappa' reached 0.79147 (best 0.80119), saving model to '/home/ubuntu/fs/AutogluonModels/ag-20240416_050040/epoch=4-step=609.ckpt' as top 3\n"
     ]
    },
    {
     "data": {
      "application/vnd.jupyter.widget-view+json": {
       "model_id": "8401c8fff1594ec89c97bc3f74c0ba7f",
       "version_major": 2,
       "version_minor": 0
      },
      "text/plain": [
       "Validation: 0it [00:00, ?it/s]"
      ]
     },
     "metadata": {},
     "output_type": "display_data"
    },
    {
     "name": "stderr",
     "output_type": "stream",
     "text": [
      "Epoch 5, global step 670: 'val_quadratic_kappa' was not in top 3\n"
     ]
    },
    {
     "data": {
      "application/vnd.jupyter.widget-view+json": {
       "model_id": "a9d93ba2f9ad4331a8a44069932ff0c6",
       "version_major": 2,
       "version_minor": 0
      },
      "text/plain": [
       "Validation: 0it [00:00, ?it/s]"
      ]
     },
     "metadata": {},
     "output_type": "display_data"
    },
    {
     "name": "stderr",
     "output_type": "stream",
     "text": [
      "Epoch 5, global step 731: 'val_quadratic_kappa' reached 0.79771 (best 0.80119), saving model to '/home/ubuntu/fs/AutogluonModels/ag-20240416_050040/epoch=5-step=731.ckpt' as top 3\n"
     ]
    },
    {
     "data": {
      "application/vnd.jupyter.widget-view+json": {
       "model_id": "912af7d2b1714917a42d38367c81c533",
       "version_major": 2,
       "version_minor": 0
      },
      "text/plain": [
       "Validation: 0it [00:00, ?it/s]"
      ]
     },
     "metadata": {},
     "output_type": "display_data"
    },
    {
     "name": "stderr",
     "output_type": "stream",
     "text": [
      "Epoch 6, global step 792: 'val_quadratic_kappa' was not in top 3\n"
     ]
    },
    {
     "data": {
      "application/vnd.jupyter.widget-view+json": {
       "model_id": "11c21539746348688b0b98a03adc88aa",
       "version_major": 2,
       "version_minor": 0
      },
      "text/plain": [
       "Validation: 0it [00:00, ?it/s]"
      ]
     },
     "metadata": {},
     "output_type": "display_data"
    },
    {
     "name": "stderr",
     "output_type": "stream",
     "text": [
      "Epoch 6, global step 853: 'val_quadratic_kappa' reached 0.79639 (best 0.80119), saving model to '/home/ubuntu/fs/AutogluonModels/ag-20240416_050040/epoch=6-step=853.ckpt' as top 3\n",
      "Start to fuse 3 checkpoints via the greedy soup algorithm.\n"
     ]
    },
    {
     "data": {
      "application/vnd.jupyter.widget-view+json": {
       "model_id": "5263fde2492c47038f6d62ed72b12ee8",
       "version_major": 2,
       "version_minor": 0
      },
      "text/plain": [
       "Predicting: 0it [00:00, ?it/s]"
      ]
     },
     "metadata": {},
     "output_type": "display_data"
    },
    {
     "data": {
      "application/vnd.jupyter.widget-view+json": {
       "model_id": "8acf888ded53420380b8033b4923b1e9",
       "version_major": 2,
       "version_minor": 0
      },
      "text/plain": [
       "Predicting: 0it [00:00, ?it/s]"
      ]
     },
     "metadata": {},
     "output_type": "display_data"
    },
    {
     "data": {
      "application/vnd.jupyter.widget-view+json": {
       "model_id": "c9bd84d259a84ba2bdb57e45ffb6bea4",
       "version_major": 2,
       "version_minor": 0
      },
      "text/plain": [
       "Predicting: 0it [00:00, ?it/s]"
      ]
     },
     "metadata": {},
     "output_type": "display_data"
    },
    {
     "name": "stderr",
     "output_type": "stream",
     "text": [
      "AutoMM has created your model. 🎉🎉🎉\n",
      "\n",
      "To load the model, use the code below:\n",
      "    ```python\n",
      "    from autogluon.multimodal import MultiModalPredictor\n",
      "    predictor = MultiModalPredictor.load(\"/home/ubuntu/fs/AutogluonModels/ag-20240416_050040\")\n",
      "    ```\n",
      "\n",
      "If you are not satisfied with the model, try to increase the training time, \n",
      "adjust the hyperparameters (https://auto.gluon.ai/stable/tutorials/multimodal/advanced_topics/customization.html),\n",
      "or post issues on GitHub (https://github.com/autogluon/autogluon/issues).\n",
      "\n",
      "\n"
     ]
    }
   ],
   "source": [
    "predictor_len = MultiModalPredictor(label='score', eval_metric='quadratic_kappa').fit(train_data=train_data[['score', 'full_text', 'word_length']])"
   ]
  },
  {
   "cell_type": "code",
   "execution_count": 7,
   "id": "5f7ffb04-7de5-4436-b0aa-599f2b7f61e7",
   "metadata": {},
   "outputs": [
    {
     "name": "stderr",
     "output_type": "stream",
     "text": [
      "No path specified. Models will be saved in: \"AutogluonModels/ag-20240416_053833\"\n",
      "=================== System Info ===================\n",
      "AutoGluon Version:  1.0.0\n",
      "Python Version:     3.10.12\n",
      "Operating System:   Linux\n",
      "Platform Machine:   x86_64\n",
      "Platform Version:   #38~22.04.1-Ubuntu SMP PREEMPT_DYNAMIC Thu Nov  2 18:01:13 UTC 2\n",
      "CPU Count:          30\n",
      "Pytorch Version:    2.0.1\n",
      "CUDA Version:       12.2\n",
      "Memory Avail:       170.78 GB / 196.56 GB (86.9%)\n",
      "Disk Space Avail:   8589934571.28 GB / 8589934592.00 GB (100.0%)\n",
      "===================================================\n",
      "AutoGluon infers your prediction problem is: 'multiclass' (because dtype of label-column == int, but few unique label-values observed).\n",
      "\t6 unique label values:  [3, 4, 2, 1, 5, 6]\n",
      "\tIf 'multiclass' is not the correct problem_type, please manually specify the problem_type parameter during predictor init (You may specify problem_type as one of: ['binary', 'multiclass', 'regression'])\n",
      "\n",
      "AutoMM starts to create your model. ✨✨✨\n",
      "\n",
      "To track the learning progress, you can open a terminal and launch Tensorboard:\n",
      "    ```shell\n",
      "    # Assume you have installed tensorboard\n",
      "    tensorboard --logdir /home/ubuntu/fs/AutogluonModels/ag-20240416_053833\n",
      "    ```\n",
      "\n",
      "Global seed set to 0\n",
      "GPU Count: 1\n",
      "GPU Count to be Used: 1\n",
      "GPU 0 Name: NVIDIA A10\n",
      "GPU 0 Memory: 1.1GB/22.49GB (Used/Total)\n",
      "\n",
      "Using 16bit Automatic Mixed Precision (AMP)\n",
      "GPU available: True (cuda), used: True\n",
      "TPU available: False, using: 0 TPU cores\n",
      "IPU available: False, using: 0 IPUs\n",
      "HPU available: False, using: 0 HPUs\n",
      "LOCAL_RANK: 0 - CUDA_VISIBLE_DEVICES: [0]\n",
      "\n",
      "  | Name              | Type                 | Params\n",
      "-----------------------------------------------------------\n",
      "0 | model             | MultimodalFusionMLP  | 110 M \n",
      "1 | validation_metric | MulticlassCohenKappa | 0     \n",
      "2 | loss_func         | CrossEntropyLoss     | 0     \n",
      "-----------------------------------------------------------\n",
      "110 M     Trainable params\n",
      "0         Non-trainable params\n",
      "110 M     Total params\n",
      "442.621   Total estimated model params size (MB)\n"
     ]
    },
    {
     "data": {
      "application/vnd.jupyter.widget-view+json": {
       "model_id": "98f52b19e92247c7b631aad842fea334",
       "version_major": 2,
       "version_minor": 0
      },
      "text/plain": [
       "Sanity Checking: 0it [00:00, ?it/s]"
      ]
     },
     "metadata": {},
     "output_type": "display_data"
    },
    {
     "data": {
      "application/vnd.jupyter.widget-view+json": {
       "model_id": "1828d0e9d3a24236a68fb9f368dc6885",
       "version_major": 2,
       "version_minor": 0
      },
      "text/plain": [
       "Training: 0it [00:00, ?it/s]"
      ]
     },
     "metadata": {},
     "output_type": "display_data"
    },
    {
     "data": {
      "application/vnd.jupyter.widget-view+json": {
       "model_id": "6cc1027d1f464a8188f1276c25f44b22",
       "version_major": 2,
       "version_minor": 0
      },
      "text/plain": [
       "Validation: 0it [00:00, ?it/s]"
      ]
     },
     "metadata": {},
     "output_type": "display_data"
    },
    {
     "name": "stderr",
     "output_type": "stream",
     "text": [
      "Epoch 0, global step 60: 'val_quadratic_kappa' reached 0.73160 (best 0.73160), saving model to '/home/ubuntu/fs/AutogluonModels/ag-20240416_053833/epoch=0-step=60.ckpt' as top 3\n"
     ]
    },
    {
     "data": {
      "application/vnd.jupyter.widget-view+json": {
       "model_id": "ff0d201c5ae74ac1b8bda3c532e0e0b5",
       "version_major": 2,
       "version_minor": 0
      },
      "text/plain": [
       "Validation: 0it [00:00, ?it/s]"
      ]
     },
     "metadata": {},
     "output_type": "display_data"
    },
    {
     "name": "stderr",
     "output_type": "stream",
     "text": [
      "Epoch 0, global step 121: 'val_quadratic_kappa' reached 0.77335 (best 0.77335), saving model to '/home/ubuntu/fs/AutogluonModels/ag-20240416_053833/epoch=0-step=121.ckpt' as top 3\n"
     ]
    },
    {
     "data": {
      "application/vnd.jupyter.widget-view+json": {
       "model_id": "f0bbc26c6f024110b02e2fe7f6e5560e",
       "version_major": 2,
       "version_minor": 0
      },
      "text/plain": [
       "Validation: 0it [00:00, ?it/s]"
      ]
     },
     "metadata": {},
     "output_type": "display_data"
    },
    {
     "name": "stderr",
     "output_type": "stream",
     "text": [
      "Epoch 1, global step 182: 'val_quadratic_kappa' reached 0.77415 (best 0.77415), saving model to '/home/ubuntu/fs/AutogluonModels/ag-20240416_053833/epoch=1-step=182.ckpt' as top 3\n"
     ]
    },
    {
     "data": {
      "application/vnd.jupyter.widget-view+json": {
       "model_id": "4a83d8159e574e7d9c68d30a2af0a789",
       "version_major": 2,
       "version_minor": 0
      },
      "text/plain": [
       "Validation: 0it [00:00, ?it/s]"
      ]
     },
     "metadata": {},
     "output_type": "display_data"
    },
    {
     "name": "stderr",
     "output_type": "stream",
     "text": [
      "Epoch 1, global step 243: 'val_quadratic_kappa' reached 0.78148 (best 0.78148), saving model to '/home/ubuntu/fs/AutogluonModels/ag-20240416_053833/epoch=1-step=243.ckpt' as top 3\n"
     ]
    },
    {
     "data": {
      "application/vnd.jupyter.widget-view+json": {
       "model_id": "ba5ec3c9d91c4ec59be46479a24627ed",
       "version_major": 2,
       "version_minor": 0
      },
      "text/plain": [
       "Validation: 0it [00:00, ?it/s]"
      ]
     },
     "metadata": {},
     "output_type": "display_data"
    },
    {
     "name": "stderr",
     "output_type": "stream",
     "text": [
      "Epoch 2, global step 304: 'val_quadratic_kappa' reached 0.77914 (best 0.78148), saving model to '/home/ubuntu/fs/AutogluonModels/ag-20240416_053833/epoch=2-step=304.ckpt' as top 3\n"
     ]
    },
    {
     "data": {
      "application/vnd.jupyter.widget-view+json": {
       "model_id": "bbc749cb60614b0091b161b40bad5730",
       "version_major": 2,
       "version_minor": 0
      },
      "text/plain": [
       "Validation: 0it [00:00, ?it/s]"
      ]
     },
     "metadata": {},
     "output_type": "display_data"
    },
    {
     "name": "stderr",
     "output_type": "stream",
     "text": [
      "Epoch 2, global step 365: 'val_quadratic_kappa' reached 0.80469 (best 0.80469), saving model to '/home/ubuntu/fs/AutogluonModels/ag-20240416_053833/epoch=2-step=365.ckpt' as top 3\n"
     ]
    },
    {
     "data": {
      "application/vnd.jupyter.widget-view+json": {
       "model_id": "7400b8c1e6574f1dac8ba97ec5872dce",
       "version_major": 2,
       "version_minor": 0
      },
      "text/plain": [
       "Validation: 0it [00:00, ?it/s]"
      ]
     },
     "metadata": {},
     "output_type": "display_data"
    },
    {
     "name": "stderr",
     "output_type": "stream",
     "text": [
      "Epoch 3, global step 426: 'val_quadratic_kappa' reached 0.80741 (best 0.80741), saving model to '/home/ubuntu/fs/AutogluonModels/ag-20240416_053833/epoch=3-step=426.ckpt' as top 3\n"
     ]
    },
    {
     "data": {
      "application/vnd.jupyter.widget-view+json": {
       "model_id": "bf2e6a53bd95405ba69e54dea8c47915",
       "version_major": 2,
       "version_minor": 0
      },
      "text/plain": [
       "Validation: 0it [00:00, ?it/s]"
      ]
     },
     "metadata": {},
     "output_type": "display_data"
    },
    {
     "name": "stderr",
     "output_type": "stream",
     "text": [
      "Epoch 3, global step 487: 'val_quadratic_kappa' reached 0.79715 (best 0.80741), saving model to '/home/ubuntu/fs/AutogluonModels/ag-20240416_053833/epoch=3-step=487.ckpt' as top 3\n"
     ]
    },
    {
     "data": {
      "application/vnd.jupyter.widget-view+json": {
       "model_id": "f1e6dd141e7c470298b1a6d7d807ee77",
       "version_major": 2,
       "version_minor": 0
      },
      "text/plain": [
       "Validation: 0it [00:00, ?it/s]"
      ]
     },
     "metadata": {},
     "output_type": "display_data"
    },
    {
     "name": "stderr",
     "output_type": "stream",
     "text": [
      "Epoch 4, global step 548: 'val_quadratic_kappa' was not in top 3\n"
     ]
    },
    {
     "data": {
      "application/vnd.jupyter.widget-view+json": {
       "model_id": "96088a8d0e1a4dfeb5565c6e7c7714a7",
       "version_major": 2,
       "version_minor": 0
      },
      "text/plain": [
       "Validation: 0it [00:00, ?it/s]"
      ]
     },
     "metadata": {},
     "output_type": "display_data"
    },
    {
     "name": "stderr",
     "output_type": "stream",
     "text": [
      "Epoch 4, global step 609: 'val_quadratic_kappa' reached 0.80537 (best 0.80741), saving model to '/home/ubuntu/fs/AutogluonModels/ag-20240416_053833/epoch=4-step=609.ckpt' as top 3\n"
     ]
    },
    {
     "data": {
      "application/vnd.jupyter.widget-view+json": {
       "model_id": "de5d2c6df56e465588546df90b9f2750",
       "version_major": 2,
       "version_minor": 0
      },
      "text/plain": [
       "Validation: 0it [00:00, ?it/s]"
      ]
     },
     "metadata": {},
     "output_type": "display_data"
    },
    {
     "name": "stderr",
     "output_type": "stream",
     "text": [
      "Epoch 5, global step 670: 'val_quadratic_kappa' was not in top 3\n"
     ]
    },
    {
     "data": {
      "application/vnd.jupyter.widget-view+json": {
       "model_id": "0e4e866aa657463d9d741dcb52ea94c7",
       "version_major": 2,
       "version_minor": 0
      },
      "text/plain": [
       "Validation: 0it [00:00, ?it/s]"
      ]
     },
     "metadata": {},
     "output_type": "display_data"
    },
    {
     "name": "stderr",
     "output_type": "stream",
     "text": [
      "Epoch 5, global step 731: 'val_quadratic_kappa' was not in top 3\n"
     ]
    },
    {
     "data": {
      "application/vnd.jupyter.widget-view+json": {
       "model_id": "3b7137ff10c844f79ba8f059973c31f7",
       "version_major": 2,
       "version_minor": 0
      },
      "text/plain": [
       "Validation: 0it [00:00, ?it/s]"
      ]
     },
     "metadata": {},
     "output_type": "display_data"
    },
    {
     "name": "stderr",
     "output_type": "stream",
     "text": [
      "Epoch 6, global step 792: 'val_quadratic_kappa' was not in top 3\n"
     ]
    },
    {
     "data": {
      "application/vnd.jupyter.widget-view+json": {
       "model_id": "8598e60ae2f448edb8edf3acb3e2214b",
       "version_major": 2,
       "version_minor": 0
      },
      "text/plain": [
       "Validation: 0it [00:00, ?it/s]"
      ]
     },
     "metadata": {},
     "output_type": "display_data"
    },
    {
     "name": "stderr",
     "output_type": "stream",
     "text": [
      "Epoch 6, global step 853: 'val_quadratic_kappa' was not in top 3\n"
     ]
    },
    {
     "data": {
      "application/vnd.jupyter.widget-view+json": {
       "model_id": "",
       "version_major": 2,
       "version_minor": 0
      },
      "text/plain": [
       "Validation: 0it [00:00, ?it/s]"
      ]
     },
     "metadata": {},
     "output_type": "display_data"
    },
    {
     "name": "stderr",
     "output_type": "stream",
     "text": [
      "Epoch 7, global step 914: 'val_quadratic_kappa' was not in top 3\n"
     ]
    },
    {
     "data": {
      "application/vnd.jupyter.widget-view+json": {
       "model_id": "aa096ee998e145038a5d66a38532d6ef",
       "version_major": 2,
       "version_minor": 0
      },
      "text/plain": [
       "Validation: 0it [00:00, ?it/s]"
      ]
     },
     "metadata": {},
     "output_type": "display_data"
    },
    {
     "name": "stderr",
     "output_type": "stream",
     "text": [
      "Epoch 7, global step 975: 'val_quadratic_kappa' was not in top 3\n"
     ]
    },
    {
     "data": {
      "application/vnd.jupyter.widget-view+json": {
       "model_id": "7c94fa8adda146439271049598881134",
       "version_major": 2,
       "version_minor": 0
      },
      "text/plain": [
       "Validation: 0it [00:00, ?it/s]"
      ]
     },
     "metadata": {},
     "output_type": "display_data"
    },
    {
     "name": "stderr",
     "output_type": "stream",
     "text": [
      "Epoch 8, global step 1036: 'val_quadratic_kappa' was not in top 3\n",
      "Start to fuse 3 checkpoints via the greedy soup algorithm.\n"
     ]
    },
    {
     "data": {
      "application/vnd.jupyter.widget-view+json": {
       "model_id": "9177146a4f37457a8273c4af8bdec77c",
       "version_major": 2,
       "version_minor": 0
      },
      "text/plain": [
       "Predicting: 0it [00:00, ?it/s]"
      ]
     },
     "metadata": {},
     "output_type": "display_data"
    },
    {
     "data": {
      "application/vnd.jupyter.widget-view+json": {
       "model_id": "681ddf15e8a943c6808a10685bed5eea",
       "version_major": 2,
       "version_minor": 0
      },
      "text/plain": [
       "Predicting: 0it [00:00, ?it/s]"
      ]
     },
     "metadata": {},
     "output_type": "display_data"
    },
    {
     "data": {
      "application/vnd.jupyter.widget-view+json": {
       "model_id": "61deb3e0e0284d5b82c162a5a772cf85",
       "version_major": 2,
       "version_minor": 0
      },
      "text/plain": [
       "Predicting: 0it [00:00, ?it/s]"
      ]
     },
     "metadata": {},
     "output_type": "display_data"
    },
    {
     "name": "stderr",
     "output_type": "stream",
     "text": [
      "AutoMM has created your model. 🎉🎉🎉\n",
      "\n",
      "To load the model, use the code below:\n",
      "    ```python\n",
      "    from autogluon.multimodal import MultiModalPredictor\n",
      "    predictor = MultiModalPredictor.load(\"/home/ubuntu/fs/AutogluonModels/ag-20240416_053833\")\n",
      "    ```\n",
      "\n",
      "If you are not satisfied with the model, try to increase the training time, \n",
      "adjust the hyperparameters (https://auto.gluon.ai/stable/tutorials/multimodal/advanced_topics/customization.html),\n",
      "or post issues on GitHub (https://github.com/autogluon/autogluon/issues).\n",
      "\n",
      "\n"
     ]
    }
   ],
   "source": [
    "predictor_len_gram = MultiModalPredictor(label='score', eval_metric='quadratic_kappa').fit(train_data=train_data[['score', 'full_text', 'word_length', 'grammar_errors']])"
   ]
  },
  {
   "cell_type": "code",
   "execution_count": 8,
   "id": "a71c135f-066e-46da-bb6e-d5753d8eb40d",
   "metadata": {},
   "outputs": [
    {
     "name": "stderr",
     "output_type": "stream",
     "text": [
      "No path specified. Models will be saved in: \"AutogluonModels/ag-20240416_062211\"\n",
      "No presets specified! To achieve strong results with AutoGluon, it is recommended to use the available presets.\n",
      "\tRecommended Presets (For more details refer to https://auto.gluon.ai/stable/tutorials/tabular/tabular-essentials.html#presets):\n",
      "\tpresets='best_quality'   : Maximize accuracy. Default time_limit=3600.\n",
      "\tpresets='high_quality'   : Strong accuracy with fast inference speed. Default time_limit=3600.\n",
      "\tpresets='good_quality'   : Good accuracy with very fast inference speed. Default time_limit=3600.\n",
      "\tpresets='medium_quality' : Fast training time, ideal for initial prototyping.\n",
      "Beginning AutoGluon training ...\n",
      "AutoGluon will save models to \"AutogluonModels/ag-20240416_062211\"\n",
      "=================== System Info ===================\n",
      "AutoGluon Version:  1.0.0\n",
      "Python Version:     3.10.12\n",
      "Operating System:   Linux\n",
      "Platform Machine:   x86_64\n",
      "Platform Version:   #38~22.04.1-Ubuntu SMP PREEMPT_DYNAMIC Thu Nov  2 18:01:13 UTC 2\n",
      "CPU Count:          30\n",
      "Memory Avail:       170.18 GB / 196.56 GB (86.6%)\n",
      "Disk Space Avail:   8589934563.42 GB / 8589934592.00 GB (100.0%)\n",
      "===================================================\n",
      "Train Data Rows:    17307\n",
      "Train Data Columns: 3\n",
      "Label Column:       score\n",
      "AutoGluon infers your prediction problem is: 'multiclass' (because dtype of label-column == int, but few unique label-values observed).\n",
      "\t6 unique label values:  [3, 4, 2, 1, 5, 6]\n",
      "\tIf 'multiclass' is not the correct problem_type, please manually specify the problem_type parameter during predictor init (You may specify problem_type as one of: ['binary', 'multiclass', 'regression'])\n",
      "Problem Type:       multiclass\n",
      "Preprocessing data ...\n",
      "Train Data Class Count: 6\n",
      "Using Feature Generators to preprocess the data ...\n",
      "Fitting AutoMLPipelineFeatureGenerator...\n",
      "\tAvailable Memory:                    174308.79 MB\n",
      "\tTrain Data (Original)  Memory Usage: 41.64 MB (0.0% of available memory)\n",
      "\tInferring data type of each feature based on column values. Set feature_metadata_in to manually specify special dtypes of the features.\n",
      "\tStage 1 Generators:\n",
      "\t\tFitting AsTypeFeatureGenerator...\n",
      "\tStage 2 Generators:\n",
      "\t\tFitting FillNaFeatureGenerator...\n",
      "\tStage 3 Generators:\n",
      "\t\tFitting IdentityFeatureGenerator...\n",
      "\t\tFitting CategoryFeatureGenerator...\n",
      "\t\t\tFitting CategoryMemoryMinimizeFeatureGenerator...\n",
      "\t\tFitting TextSpecialFeatureGenerator...\n",
      "\t\t\tFitting BinnedFeatureGenerator...\n",
      "\t\t\tFitting DropDuplicatesFeatureGenerator...\n",
      "\t\tFitting TextNgramFeatureGenerator...\n",
      "\t\t\tFitting CountVectorizer for text features: ['full_text']\n",
      "\t\t\tCountVectorizer fit with vocabulary size = 10000\n",
      "\tStage 4 Generators:\n",
      "\t\tFitting DropUniqueFeatureGenerator...\n",
      "\tStage 5 Generators:\n",
      "\t\tFitting DropDuplicatesFeatureGenerator...\n",
      "\tTypes of features in original data (raw dtype, special dtypes):\n",
      "\t\t('int', [])          : 2 | ['word_length', 'grammar_errors']\n",
      "\t\t('object', ['text']) : 1 | ['full_text']\n",
      "\tTypes of features in processed data (raw dtype, special dtypes):\n",
      "\t\t('int', [])                         :    2 | ['word_length', 'grammar_errors']\n",
      "\t\t('int', ['binned', 'text_special']) :   26 | ['full_text.char_count', 'full_text.word_count', 'full_text.capital_ratio', 'full_text.lower_ratio', 'full_text.digit_ratio', ...]\n",
      "\t\t('int', ['text_ngram'])             : 9788 | ['__nlp__.000', '__nlp__.000 drivers', '__nlp__.10', '__nlp__.100', '__nlp__.12', ...]\n",
      "\t62.4s = Fit runtime\n",
      "\t3 features in original data used to generate 9816 features in processed data.\n",
      "\tTrain Data (Processed) Memory Usage: 323.80 MB (0.2% of available memory)\n",
      "Data preprocessing and feature engineering runtime = 65.28s ...\n",
      "AutoGluon will gauge predictive performance using evaluation metric: 'quadratic_kappa'\n",
      "\tTo change this, specify the eval_metric parameter of Predictor()\n",
      "Automatically generating train/validation split with holdout_frac=0.1, Train Rows: 15576, Val Rows: 1731\n",
      "User-specified model hyperparameters to be fit:\n",
      "{\n",
      "\t'NN_TORCH': {},\n",
      "\t'GBM': [{'extra_trees': True, 'ag_args': {'name_suffix': 'XT'}}, {}, 'GBMLarge'],\n",
      "\t'CAT': {},\n",
      "\t'XGB': {},\n",
      "\t'FASTAI': {},\n",
      "\t'RF': [{'criterion': 'gini', 'ag_args': {'name_suffix': 'Gini', 'problem_types': ['binary', 'multiclass']}}, {'criterion': 'entropy', 'ag_args': {'name_suffix': 'Entr', 'problem_types': ['binary', 'multiclass']}}, {'criterion': 'squared_error', 'ag_args': {'name_suffix': 'MSE', 'problem_types': ['regression', 'quantile']}}],\n",
      "\t'XT': [{'criterion': 'gini', 'ag_args': {'name_suffix': 'Gini', 'problem_types': ['binary', 'multiclass']}}, {'criterion': 'entropy', 'ag_args': {'name_suffix': 'Entr', 'problem_types': ['binary', 'multiclass']}}, {'criterion': 'squared_error', 'ag_args': {'name_suffix': 'MSE', 'problem_types': ['regression', 'quantile']}}],\n",
      "\t'KNN': [{'weights': 'uniform', 'ag_args': {'name_suffix': 'Unif'}}, {'weights': 'distance', 'ag_args': {'name_suffix': 'Dist'}}],\n",
      "}\n",
      "Fitting 13 L1 models ...\n",
      "Fitting model: KNeighborsUnif ...\n",
      "\t0.6879\t = Validation score   (quadratic_kappa)\n",
      "\t4.01s\t = Training   runtime\n",
      "\t1.13s\t = Validation runtime\n",
      "Fitting model: KNeighborsDist ...\n",
      "\t0.6932\t = Validation score   (quadratic_kappa)\n",
      "\t3.95s\t = Training   runtime\n",
      "\t0.89s\t = Validation runtime\n",
      "Fitting model: NeuralNetFastAI ...\n",
      "Metric quadratic_kappa is not supported by this model - using log_loss instead\n",
      "\t0.7141\t = Validation score   (quadratic_kappa)\n",
      "\t654.9s\t = Training   runtime\n",
      "\t0.29s\t = Validation runtime\n",
      "Fitting model: LightGBMXT ...\n",
      "\t0.6497\t = Validation score   (quadratic_kappa)\n",
      "\t14.79s\t = Training   runtime\n",
      "\t0.16s\t = Validation runtime\n",
      "Fitting model: LightGBM ...\n",
      "\t0.0\t = Validation score   (quadratic_kappa)\n",
      "\t15.09s\t = Training   runtime\n",
      "\t0.16s\t = Validation runtime\n",
      "Fitting model: RandomForestGini ...\n",
      "\t0.6466\t = Validation score   (quadratic_kappa)\n",
      "\t9.36s\t = Training   runtime\n",
      "\t0.08s\t = Validation runtime\n",
      "Fitting model: RandomForestEntr ...\n",
      "\t0.6454\t = Validation score   (quadratic_kappa)\n",
      "\t8.85s\t = Training   runtime\n",
      "\t0.07s\t = Validation runtime\n",
      "Fitting model: CatBoost ...\n",
      "\tMany features detected (9816), dynamically setting 'colsample_bylevel' to 0.10187449062754686 to speed up training (Default = 1).\n",
      "\tTo disable this functionality, explicitly specify 'colsample_bylevel' in the model hyperparameters.\n",
      "\t0.7706\t = Validation score   (quadratic_kappa)\n",
      "\t390.13s\t = Training   runtime\n",
      "\t0.13s\t = Validation runtime\n",
      "Fitting model: ExtraTreesGini ...\n",
      "\t0.6394\t = Validation score   (quadratic_kappa)\n",
      "\t10.68s\t = Training   runtime\n",
      "\t0.07s\t = Validation runtime\n",
      "Fitting model: ExtraTreesEntr ...\n",
      "\t0.64\t = Validation score   (quadratic_kappa)\n",
      "\t10.06s\t = Training   runtime\n",
      "\t0.07s\t = Validation runtime\n",
      "Fitting model: XGBoost ...\n",
      "\t0.7568\t = Validation score   (quadratic_kappa)\n",
      "\t34.57s\t = Training   runtime\n",
      "\t0.22s\t = Validation runtime\n",
      "Fitting model: NeuralNetTorch ...\n",
      "\t0.7304\t = Validation score   (quadratic_kappa)\n",
      "\t625.59s\t = Training   runtime\n",
      "\t0.34s\t = Validation runtime\n",
      "Fitting model: LightGBMLarge ...\n",
      "\t0.674\t = Validation score   (quadratic_kappa)\n",
      "\t35.74s\t = Training   runtime\n",
      "\t0.16s\t = Validation runtime\n",
      "Fitting model: WeightedEnsemble_L2 ...\n",
      "\tEnsemble Weights: {'CatBoost': 0.6, 'XGBoost': 0.2, 'KNeighborsDist': 0.133, 'KNeighborsUnif': 0.067}\n",
      "\t0.7764\t = Validation score   (quadratic_kappa)\n",
      "\t1.18s\t = Training   runtime\n",
      "\t0.0s\t = Validation runtime\n",
      "AutoGluon training complete, total runtime = 1904.28s ... Best model: \"WeightedEnsemble_L2\"\n",
      "TabularPredictor saved. To load, use: predictor = TabularPredictor.load(\"AutogluonModels/ag-20240416_062211\")\n"
     ]
    }
   ],
   "source": [
    "predictor_len_gram_noMM = TabularPredictor(label='score', eval_metric='quadratic_kappa').fit(train_data=train_data[['score', 'full_text', 'word_length', 'grammar_errors']])"
   ]
  }
 ],
 "metadata": {
  "kernelspec": {
   "display_name": "Python 3 (ipykernel)",
   "language": "python",
   "name": "python3"
  },
  "language_info": {
   "codemirror_mode": {
    "name": "ipython",
    "version": 3
   },
   "file_extension": ".py",
   "mimetype": "text/x-python",
   "name": "python",
   "nbconvert_exporter": "python",
   "pygments_lexer": "ipython3",
   "version": "3.10.12"
  }
 },
 "nbformat": 4,
 "nbformat_minor": 5
}
